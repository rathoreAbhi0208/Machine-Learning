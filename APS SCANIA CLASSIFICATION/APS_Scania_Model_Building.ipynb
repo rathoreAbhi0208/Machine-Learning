{
 "cells": [
  {
   "cell_type": "code",
   "execution_count": 56,
   "metadata": {},
   "outputs": [],
   "source": [
    "import pandas as pd\n",
    "\n",
    "import numpy as np\n",
    "\n",
    "import matplotlib.pyplot as plt\n",
    "%matplotlib inline\n",
    "import seaborn as sns\n",
    "\n",
    "from sklearn.linear_model import LogisticRegression\n",
    "from sklearn.svm import SVC\n",
    "from sklearn.tree import DecisionTreeClassifier\n",
    "from sklearn.ensemble import RandomForestClassifier\n",
    "from sklearn.ensemble import AdaBoostClassifier\n",
    "from sklearn.ensemble import GradientBoostingClassifier\n",
    "import xgboost\n",
    "\n",
    "from sklearn.model_selection import GridSearchCV\n",
    "from sklearn.metrics import confusion_matrix\n",
    "\n",
    "from sklearn.metrics import f1_score\n",
    "\n",
    "from prettytable import PrettyTable\n",
    "\n",
    "import warnings\n",
    "warnings.filterwarnings('ignore')"
   ]
  },
  {
   "cell_type": "code",
   "execution_count": 5,
   "metadata": {
    "colab": {
     "base_uri": "https://localhost:8080/",
     "height": 488
    },
    "id": "ku706ZmpPMZi",
    "outputId": "43e57e87-5fde-4a54-f353-c860db9c4294",
    "scrolled": true
   },
   "outputs": [
    {
     "data": {
      "text/html": [
       "<div>\n",
       "<style scoped>\n",
       "    .dataframe tbody tr th:only-of-type {\n",
       "        vertical-align: middle;\n",
       "    }\n",
       "\n",
       "    .dataframe tbody tr th {\n",
       "        vertical-align: top;\n",
       "    }\n",
       "\n",
       "    .dataframe thead th {\n",
       "        text-align: right;\n",
       "    }\n",
       "</style>\n",
       "<table border=\"1\" class=\"dataframe\">\n",
       "  <thead>\n",
       "    <tr style=\"text-align: right;\">\n",
       "      <th></th>\n",
       "      <th>aa_000</th>\n",
       "      <th>ac_000</th>\n",
       "      <th>ad_000</th>\n",
       "      <th>ae_000</th>\n",
       "      <th>af_000</th>\n",
       "      <th>ag_000</th>\n",
       "      <th>ag_001</th>\n",
       "      <th>ag_002</th>\n",
       "      <th>ag_003</th>\n",
       "      <th>ag_004</th>\n",
       "      <th>...</th>\n",
       "      <th>ee_003</th>\n",
       "      <th>ee_004</th>\n",
       "      <th>ee_005</th>\n",
       "      <th>ee_006</th>\n",
       "      <th>ee_007</th>\n",
       "      <th>ee_008</th>\n",
       "      <th>ee_009</th>\n",
       "      <th>ef_000</th>\n",
       "      <th>eg_000</th>\n",
       "      <th>class</th>\n",
       "    </tr>\n",
       "  </thead>\n",
       "  <tbody>\n",
       "    <tr>\n",
       "      <th>0</th>\n",
       "      <td>3.600000e+01</td>\n",
       "      <td>32.000000</td>\n",
       "      <td>30.000000</td>\n",
       "      <td>0.000000</td>\n",
       "      <td>0.000000</td>\n",
       "      <td>0.0</td>\n",
       "      <td>0.000000</td>\n",
       "      <td>0.000000</td>\n",
       "      <td>0.000000e+00</td>\n",
       "      <td>1.100000e+02</td>\n",
       "      <td>...</td>\n",
       "      <td>3.800000e+01</td>\n",
       "      <td>3.600000e+01</td>\n",
       "      <td>3.000000e+01</td>\n",
       "      <td>3.000000e+01</td>\n",
       "      <td>0.000000e+00</td>\n",
       "      <td>0.000000e+00</td>\n",
       "      <td>0.000000e+00</td>\n",
       "      <td>0.000000</td>\n",
       "      <td>0.000000</td>\n",
       "      <td>0</td>\n",
       "    </tr>\n",
       "    <tr>\n",
       "      <th>1</th>\n",
       "      <td>2.764820e+05</td>\n",
       "      <td>3806.000000</td>\n",
       "      <td>195672.141524</td>\n",
       "      <td>0.000000</td>\n",
       "      <td>0.000000</td>\n",
       "      <td>0.0</td>\n",
       "      <td>0.000000</td>\n",
       "      <td>5298.000000</td>\n",
       "      <td>3.991520e+05</td>\n",
       "      <td>5.788730e+06</td>\n",
       "      <td>...</td>\n",
       "      <td>1.124202e+06</td>\n",
       "      <td>1.704544e+06</td>\n",
       "      <td>1.039780e+06</td>\n",
       "      <td>1.027560e+06</td>\n",
       "      <td>4.455124e+06</td>\n",
       "      <td>3.009700e+05</td>\n",
       "      <td>2.000000e+02</td>\n",
       "      <td>0.000000</td>\n",
       "      <td>0.000000</td>\n",
       "      <td>0</td>\n",
       "    </tr>\n",
       "    <tr>\n",
       "      <th>2</th>\n",
       "      <td>3.178000e+04</td>\n",
       "      <td>1278.000000</td>\n",
       "      <td>1118.000000</td>\n",
       "      <td>0.000000</td>\n",
       "      <td>0.000000</td>\n",
       "      <td>0.0</td>\n",
       "      <td>0.000000</td>\n",
       "      <td>0.000000</td>\n",
       "      <td>0.000000e+00</td>\n",
       "      <td>7.200000e+02</td>\n",
       "      <td>...</td>\n",
       "      <td>1.712700e+05</td>\n",
       "      <td>2.791320e+05</td>\n",
       "      <td>1.817120e+05</td>\n",
       "      <td>1.250260e+05</td>\n",
       "      <td>9.377800e+04</td>\n",
       "      <td>1.901260e+05</td>\n",
       "      <td>5.820000e+03</td>\n",
       "      <td>0.000000</td>\n",
       "      <td>0.000000</td>\n",
       "      <td>0</td>\n",
       "    </tr>\n",
       "    <tr>\n",
       "      <th>3</th>\n",
       "      <td>4.300000e+02</td>\n",
       "      <td>36.000000</td>\n",
       "      <td>32.000000</td>\n",
       "      <td>0.000000</td>\n",
       "      <td>0.000000</td>\n",
       "      <td>0.0</td>\n",
       "      <td>0.000000</td>\n",
       "      <td>974.000000</td>\n",
       "      <td>4.608000e+03</td>\n",
       "      <td>2.636600e+04</td>\n",
       "      <td>...</td>\n",
       "      <td>1.468000e+03</td>\n",
       "      <td>2.628000e+03</td>\n",
       "      <td>2.152000e+03</td>\n",
       "      <td>3.470000e+03</td>\n",
       "      <td>5.002000e+03</td>\n",
       "      <td>0.000000e+00</td>\n",
       "      <td>0.000000e+00</td>\n",
       "      <td>0.000000</td>\n",
       "      <td>0.000000</td>\n",
       "      <td>0</td>\n",
       "    </tr>\n",
       "    <tr>\n",
       "      <th>4</th>\n",
       "      <td>3.294000e+04</td>\n",
       "      <td>0.000000</td>\n",
       "      <td>194595.891182</td>\n",
       "      <td>0.000000</td>\n",
       "      <td>0.000000</td>\n",
       "      <td>0.0</td>\n",
       "      <td>0.000000</td>\n",
       "      <td>0.000000</td>\n",
       "      <td>0.000000e+00</td>\n",
       "      <td>4.120000e+02</td>\n",
       "      <td>...</td>\n",
       "      <td>4.127800e+04</td>\n",
       "      <td>1.382340e+05</td>\n",
       "      <td>8.039800e+04</td>\n",
       "      <td>8.103200e+04</td>\n",
       "      <td>9.789600e+04</td>\n",
       "      <td>5.887400e+05</td>\n",
       "      <td>1.496480e+05</td>\n",
       "      <td>0.000000</td>\n",
       "      <td>0.000000</td>\n",
       "      <td>0</td>\n",
       "    </tr>\n",
       "    <tr>\n",
       "      <th>...</th>\n",
       "      <td>...</td>\n",
       "      <td>...</td>\n",
       "      <td>...</td>\n",
       "      <td>...</td>\n",
       "      <td>...</td>\n",
       "      <td>...</td>\n",
       "      <td>...</td>\n",
       "      <td>...</td>\n",
       "      <td>...</td>\n",
       "      <td>...</td>\n",
       "      <td>...</td>\n",
       "      <td>...</td>\n",
       "      <td>...</td>\n",
       "      <td>...</td>\n",
       "      <td>...</td>\n",
       "      <td>...</td>\n",
       "      <td>...</td>\n",
       "      <td>...</td>\n",
       "      <td>...</td>\n",
       "      <td>...</td>\n",
       "      <td>...</td>\n",
       "    </tr>\n",
       "    <tr>\n",
       "      <th>34864</th>\n",
       "      <td>1.261404e+05</td>\n",
       "      <td>915.043506</td>\n",
       "      <td>556.456916</td>\n",
       "      <td>165.243826</td>\n",
       "      <td>222.443613</td>\n",
       "      <td>0.0</td>\n",
       "      <td>4186.457678</td>\n",
       "      <td>182178.432483</td>\n",
       "      <td>2.226855e+06</td>\n",
       "      <td>3.971884e+06</td>\n",
       "      <td>...</td>\n",
       "      <td>3.254452e+05</td>\n",
       "      <td>8.554553e+05</td>\n",
       "      <td>1.187174e+06</td>\n",
       "      <td>1.431242e+06</td>\n",
       "      <td>5.739495e+05</td>\n",
       "      <td>2.814295e+04</td>\n",
       "      <td>1.034539e+02</td>\n",
       "      <td>0.000000</td>\n",
       "      <td>0.000000</td>\n",
       "      <td>1</td>\n",
       "    </tr>\n",
       "    <tr>\n",
       "      <th>34865</th>\n",
       "      <td>4.534480e+05</td>\n",
       "      <td>0.000000</td>\n",
       "      <td>182484.212738</td>\n",
       "      <td>0.000000</td>\n",
       "      <td>0.000000</td>\n",
       "      <td>0.0</td>\n",
       "      <td>0.000000</td>\n",
       "      <td>0.000000</td>\n",
       "      <td>7.774729e+02</td>\n",
       "      <td>5.132533e+05</td>\n",
       "      <td>...</td>\n",
       "      <td>1.844555e+06</td>\n",
       "      <td>3.557011e+06</td>\n",
       "      <td>2.921645e+06</td>\n",
       "      <td>2.550369e+06</td>\n",
       "      <td>1.624660e+06</td>\n",
       "      <td>2.906306e+06</td>\n",
       "      <td>2.127022e+05</td>\n",
       "      <td>0.000000</td>\n",
       "      <td>0.000000</td>\n",
       "      <td>1</td>\n",
       "    </tr>\n",
       "    <tr>\n",
       "      <th>34866</th>\n",
       "      <td>1.035684e+06</td>\n",
       "      <td>0.000000</td>\n",
       "      <td>183616.852367</td>\n",
       "      <td>0.000000</td>\n",
       "      <td>0.000000</td>\n",
       "      <td>0.0</td>\n",
       "      <td>0.000000</td>\n",
       "      <td>0.000000</td>\n",
       "      <td>2.007697e+03</td>\n",
       "      <td>4.848756e+05</td>\n",
       "      <td>...</td>\n",
       "      <td>2.974367e+06</td>\n",
       "      <td>5.473665e+06</td>\n",
       "      <td>4.470447e+06</td>\n",
       "      <td>4.593277e+06</td>\n",
       "      <td>4.472272e+06</td>\n",
       "      <td>1.318047e+07</td>\n",
       "      <td>1.379284e+06</td>\n",
       "      <td>0.000000</td>\n",
       "      <td>0.000000</td>\n",
       "      <td>1</td>\n",
       "    </tr>\n",
       "    <tr>\n",
       "      <th>34867</th>\n",
       "      <td>4.832519e+05</td>\n",
       "      <td>158.000000</td>\n",
       "      <td>196017.185278</td>\n",
       "      <td>871.514480</td>\n",
       "      <td>1825.876233</td>\n",
       "      <td>0.0</td>\n",
       "      <td>5875.704325</td>\n",
       "      <td>74801.830059</td>\n",
       "      <td>1.713120e+06</td>\n",
       "      <td>4.617869e+06</td>\n",
       "      <td>...</td>\n",
       "      <td>8.680031e+05</td>\n",
       "      <td>7.593216e+05</td>\n",
       "      <td>4.454249e+06</td>\n",
       "      <td>1.543968e+06</td>\n",
       "      <td>2.193017e+05</td>\n",
       "      <td>6.363413e+03</td>\n",
       "      <td>0.000000e+00</td>\n",
       "      <td>58.575611</td>\n",
       "      <td>0.323622</td>\n",
       "      <td>1</td>\n",
       "    </tr>\n",
       "    <tr>\n",
       "      <th>34868</th>\n",
       "      <td>8.075742e+05</td>\n",
       "      <td>54.493828</td>\n",
       "      <td>190708.646040</td>\n",
       "      <td>0.000000</td>\n",
       "      <td>0.000000</td>\n",
       "      <td>0.0</td>\n",
       "      <td>0.000000</td>\n",
       "      <td>0.000000</td>\n",
       "      <td>0.000000e+00</td>\n",
       "      <td>0.000000e+00</td>\n",
       "      <td>...</td>\n",
       "      <td>0.000000e+00</td>\n",
       "      <td>0.000000e+00</td>\n",
       "      <td>0.000000e+00</td>\n",
       "      <td>0.000000e+00</td>\n",
       "      <td>0.000000e+00</td>\n",
       "      <td>0.000000e+00</td>\n",
       "      <td>0.000000e+00</td>\n",
       "      <td>0.000000</td>\n",
       "      <td>0.000000</td>\n",
       "      <td>1</td>\n",
       "    </tr>\n",
       "  </tbody>\n",
       "</table>\n",
       "<p>34869 rows × 163 columns</p>\n",
       "</div>"
      ],
      "text/plain": [
       "             aa_000       ac_000         ad_000      ae_000       af_000  \\\n",
       "0      3.600000e+01    32.000000      30.000000    0.000000     0.000000   \n",
       "1      2.764820e+05  3806.000000  195672.141524    0.000000     0.000000   \n",
       "2      3.178000e+04  1278.000000    1118.000000    0.000000     0.000000   \n",
       "3      4.300000e+02    36.000000      32.000000    0.000000     0.000000   \n",
       "4      3.294000e+04     0.000000  194595.891182    0.000000     0.000000   \n",
       "...             ...          ...            ...         ...          ...   \n",
       "34864  1.261404e+05   915.043506     556.456916  165.243826   222.443613   \n",
       "34865  4.534480e+05     0.000000  182484.212738    0.000000     0.000000   \n",
       "34866  1.035684e+06     0.000000  183616.852367    0.000000     0.000000   \n",
       "34867  4.832519e+05   158.000000  196017.185278  871.514480  1825.876233   \n",
       "34868  8.075742e+05    54.493828  190708.646040    0.000000     0.000000   \n",
       "\n",
       "       ag_000       ag_001         ag_002        ag_003        ag_004  ...  \\\n",
       "0         0.0     0.000000       0.000000  0.000000e+00  1.100000e+02  ...   \n",
       "1         0.0     0.000000    5298.000000  3.991520e+05  5.788730e+06  ...   \n",
       "2         0.0     0.000000       0.000000  0.000000e+00  7.200000e+02  ...   \n",
       "3         0.0     0.000000     974.000000  4.608000e+03  2.636600e+04  ...   \n",
       "4         0.0     0.000000       0.000000  0.000000e+00  4.120000e+02  ...   \n",
       "...       ...          ...            ...           ...           ...  ...   \n",
       "34864     0.0  4186.457678  182178.432483  2.226855e+06  3.971884e+06  ...   \n",
       "34865     0.0     0.000000       0.000000  7.774729e+02  5.132533e+05  ...   \n",
       "34866     0.0     0.000000       0.000000  2.007697e+03  4.848756e+05  ...   \n",
       "34867     0.0  5875.704325   74801.830059  1.713120e+06  4.617869e+06  ...   \n",
       "34868     0.0     0.000000       0.000000  0.000000e+00  0.000000e+00  ...   \n",
       "\n",
       "             ee_003        ee_004        ee_005        ee_006        ee_007  \\\n",
       "0      3.800000e+01  3.600000e+01  3.000000e+01  3.000000e+01  0.000000e+00   \n",
       "1      1.124202e+06  1.704544e+06  1.039780e+06  1.027560e+06  4.455124e+06   \n",
       "2      1.712700e+05  2.791320e+05  1.817120e+05  1.250260e+05  9.377800e+04   \n",
       "3      1.468000e+03  2.628000e+03  2.152000e+03  3.470000e+03  5.002000e+03   \n",
       "4      4.127800e+04  1.382340e+05  8.039800e+04  8.103200e+04  9.789600e+04   \n",
       "...             ...           ...           ...           ...           ...   \n",
       "34864  3.254452e+05  8.554553e+05  1.187174e+06  1.431242e+06  5.739495e+05   \n",
       "34865  1.844555e+06  3.557011e+06  2.921645e+06  2.550369e+06  1.624660e+06   \n",
       "34866  2.974367e+06  5.473665e+06  4.470447e+06  4.593277e+06  4.472272e+06   \n",
       "34867  8.680031e+05  7.593216e+05  4.454249e+06  1.543968e+06  2.193017e+05   \n",
       "34868  0.000000e+00  0.000000e+00  0.000000e+00  0.000000e+00  0.000000e+00   \n",
       "\n",
       "             ee_008        ee_009     ef_000    eg_000  class  \n",
       "0      0.000000e+00  0.000000e+00   0.000000  0.000000      0  \n",
       "1      3.009700e+05  2.000000e+02   0.000000  0.000000      0  \n",
       "2      1.901260e+05  5.820000e+03   0.000000  0.000000      0  \n",
       "3      0.000000e+00  0.000000e+00   0.000000  0.000000      0  \n",
       "4      5.887400e+05  1.496480e+05   0.000000  0.000000      0  \n",
       "...             ...           ...        ...       ...    ...  \n",
       "34864  2.814295e+04  1.034539e+02   0.000000  0.000000      1  \n",
       "34865  2.906306e+06  2.127022e+05   0.000000  0.000000      1  \n",
       "34866  1.318047e+07  1.379284e+06   0.000000  0.000000      1  \n",
       "34867  6.363413e+03  0.000000e+00  58.575611  0.323622      1  \n",
       "34868  0.000000e+00  0.000000e+00   0.000000  0.000000      1  \n",
       "\n",
       "[34869 rows x 163 columns]"
      ]
     },
     "execution_count": 5,
     "metadata": {},
     "output_type": "execute_result"
    }
   ],
   "source": [
    "train = pd.read_csv('Final_train_data.csv')\n",
    "train"
   ]
  },
  {
   "cell_type": "code",
   "execution_count": 7,
   "metadata": {
    "colab": {
     "base_uri": "https://localhost:8080/",
     "height": 488
    },
    "id": "gGniSHC-PkGT",
    "outputId": "b673481b-b8ee-4329-b8de-ff7e0876e794"
   },
   "outputs": [
    {
     "data": {
      "text/html": [
       "<div>\n",
       "<style scoped>\n",
       "    .dataframe tbody tr th:only-of-type {\n",
       "        vertical-align: middle;\n",
       "    }\n",
       "\n",
       "    .dataframe tbody tr th {\n",
       "        vertical-align: top;\n",
       "    }\n",
       "\n",
       "    .dataframe thead th {\n",
       "        text-align: right;\n",
       "    }\n",
       "</style>\n",
       "<table border=\"1\" class=\"dataframe\">\n",
       "  <thead>\n",
       "    <tr style=\"text-align: right;\">\n",
       "      <th></th>\n",
       "      <th>aa_000</th>\n",
       "      <th>ac_000</th>\n",
       "      <th>ad_000</th>\n",
       "      <th>ae_000</th>\n",
       "      <th>af_000</th>\n",
       "      <th>ag_000</th>\n",
       "      <th>ag_001</th>\n",
       "      <th>ag_002</th>\n",
       "      <th>ag_003</th>\n",
       "      <th>ag_004</th>\n",
       "      <th>...</th>\n",
       "      <th>ee_003</th>\n",
       "      <th>ee_004</th>\n",
       "      <th>ee_005</th>\n",
       "      <th>ee_006</th>\n",
       "      <th>ee_007</th>\n",
       "      <th>ee_008</th>\n",
       "      <th>ee_009</th>\n",
       "      <th>ef_000</th>\n",
       "      <th>eg_000</th>\n",
       "      <th>class</th>\n",
       "    </tr>\n",
       "  </thead>\n",
       "  <tbody>\n",
       "    <tr>\n",
       "      <th>0</th>\n",
       "      <td>29118.0</td>\n",
       "      <td>424.0</td>\n",
       "      <td>388.000000</td>\n",
       "      <td>0.0</td>\n",
       "      <td>0.0</td>\n",
       "      <td>0.0</td>\n",
       "      <td>0.0</td>\n",
       "      <td>0.0</td>\n",
       "      <td>32.0</td>\n",
       "      <td>91538.0</td>\n",
       "      <td>...</td>\n",
       "      <td>125120.0</td>\n",
       "      <td>242876.0</td>\n",
       "      <td>217232.0</td>\n",
       "      <td>151480.0</td>\n",
       "      <td>111020.0</td>\n",
       "      <td>189996.0</td>\n",
       "      <td>5682.0</td>\n",
       "      <td>0.0</td>\n",
       "      <td>0.0</td>\n",
       "      <td>0</td>\n",
       "    </tr>\n",
       "    <tr>\n",
       "      <th>1</th>\n",
       "      <td>602642.0</td>\n",
       "      <td>0.0</td>\n",
       "      <td>166516.023896</td>\n",
       "      <td>0.0</td>\n",
       "      <td>0.0</td>\n",
       "      <td>156.0</td>\n",
       "      <td>12.0</td>\n",
       "      <td>2.0</td>\n",
       "      <td>2352.0</td>\n",
       "      <td>5776762.0</td>\n",
       "      <td>...</td>\n",
       "      <td>3792460.0</td>\n",
       "      <td>3491992.0</td>\n",
       "      <td>1041890.0</td>\n",
       "      <td>452962.0</td>\n",
       "      <td>206196.0</td>\n",
       "      <td>351870.0</td>\n",
       "      <td>10394.0</td>\n",
       "      <td>0.0</td>\n",
       "      <td>0.0</td>\n",
       "      <td>0</td>\n",
       "    </tr>\n",
       "    <tr>\n",
       "      <th>2</th>\n",
       "      <td>6050.0</td>\n",
       "      <td>784.0</td>\n",
       "      <td>676.000000</td>\n",
       "      <td>0.0</td>\n",
       "      <td>0.0</td>\n",
       "      <td>0.0</td>\n",
       "      <td>0.0</td>\n",
       "      <td>0.0</td>\n",
       "      <td>0.0</td>\n",
       "      <td>180.0</td>\n",
       "      <td>...</td>\n",
       "      <td>11596.0</td>\n",
       "      <td>39062.0</td>\n",
       "      <td>206134.0</td>\n",
       "      <td>820.0</td>\n",
       "      <td>0.0</td>\n",
       "      <td>0.0</td>\n",
       "      <td>0.0</td>\n",
       "      <td>0.0</td>\n",
       "      <td>0.0</td>\n",
       "      <td>0</td>\n",
       "    </tr>\n",
       "    <tr>\n",
       "      <th>3</th>\n",
       "      <td>41606.0</td>\n",
       "      <td>194.0</td>\n",
       "      <td>180.000000</td>\n",
       "      <td>0.0</td>\n",
       "      <td>0.0</td>\n",
       "      <td>0.0</td>\n",
       "      <td>0.0</td>\n",
       "      <td>0.0</td>\n",
       "      <td>0.0</td>\n",
       "      <td>28038.0</td>\n",
       "      <td>...</td>\n",
       "      <td>250656.0</td>\n",
       "      <td>630484.0</td>\n",
       "      <td>208272.0</td>\n",
       "      <td>113592.0</td>\n",
       "      <td>257094.0</td>\n",
       "      <td>1060.0</td>\n",
       "      <td>0.0</td>\n",
       "      <td>0.0</td>\n",
       "      <td>0.0</td>\n",
       "      <td>0</td>\n",
       "    </tr>\n",
       "    <tr>\n",
       "      <th>4</th>\n",
       "      <td>78294.0</td>\n",
       "      <td>0.0</td>\n",
       "      <td>193762.081371</td>\n",
       "      <td>0.0</td>\n",
       "      <td>0.0</td>\n",
       "      <td>0.0</td>\n",
       "      <td>0.0</td>\n",
       "      <td>0.0</td>\n",
       "      <td>0.0</td>\n",
       "      <td>138500.0</td>\n",
       "      <td>...</td>\n",
       "      <td>275300.0</td>\n",
       "      <td>623922.0</td>\n",
       "      <td>568556.0</td>\n",
       "      <td>521004.0</td>\n",
       "      <td>437128.0</td>\n",
       "      <td>466244.0</td>\n",
       "      <td>21308.0</td>\n",
       "      <td>0.0</td>\n",
       "      <td>0.0</td>\n",
       "      <td>0</td>\n",
       "    </tr>\n",
       "    <tr>\n",
       "      <th>...</th>\n",
       "      <td>...</td>\n",
       "      <td>...</td>\n",
       "      <td>...</td>\n",
       "      <td>...</td>\n",
       "      <td>...</td>\n",
       "      <td>...</td>\n",
       "      <td>...</td>\n",
       "      <td>...</td>\n",
       "      <td>...</td>\n",
       "      <td>...</td>\n",
       "      <td>...</td>\n",
       "      <td>...</td>\n",
       "      <td>...</td>\n",
       "      <td>...</td>\n",
       "      <td>...</td>\n",
       "      <td>...</td>\n",
       "      <td>...</td>\n",
       "      <td>...</td>\n",
       "      <td>...</td>\n",
       "      <td>...</td>\n",
       "      <td>...</td>\n",
       "    </tr>\n",
       "    <tr>\n",
       "      <th>16787</th>\n",
       "      <td>166838.0</td>\n",
       "      <td>482.0</td>\n",
       "      <td>426.000000</td>\n",
       "      <td>0.0</td>\n",
       "      <td>0.0</td>\n",
       "      <td>0.0</td>\n",
       "      <td>0.0</td>\n",
       "      <td>62.0</td>\n",
       "      <td>394326.0</td>\n",
       "      <td>3639036.0</td>\n",
       "      <td>...</td>\n",
       "      <td>235720.0</td>\n",
       "      <td>614462.0</td>\n",
       "      <td>607356.0</td>\n",
       "      <td>4336194.0</td>\n",
       "      <td>914256.0</td>\n",
       "      <td>11582.0</td>\n",
       "      <td>0.0</td>\n",
       "      <td>0.0</td>\n",
       "      <td>0.0</td>\n",
       "      <td>0</td>\n",
       "    </tr>\n",
       "    <tr>\n",
       "      <th>16788</th>\n",
       "      <td>60038.0</td>\n",
       "      <td>124.0</td>\n",
       "      <td>88.000000</td>\n",
       "      <td>0.0</td>\n",
       "      <td>0.0</td>\n",
       "      <td>0.0</td>\n",
       "      <td>0.0</td>\n",
       "      <td>0.0</td>\n",
       "      <td>0.0</td>\n",
       "      <td>136.0</td>\n",
       "      <td>...</td>\n",
       "      <td>181224.0</td>\n",
       "      <td>484940.0</td>\n",
       "      <td>447586.0</td>\n",
       "      <td>445130.0</td>\n",
       "      <td>352112.0</td>\n",
       "      <td>350890.0</td>\n",
       "      <td>18408.0</td>\n",
       "      <td>0.0</td>\n",
       "      <td>0.0</td>\n",
       "      <td>0</td>\n",
       "    </tr>\n",
       "    <tr>\n",
       "      <th>16789</th>\n",
       "      <td>29898.0</td>\n",
       "      <td>1568.0</td>\n",
       "      <td>194822.155641</td>\n",
       "      <td>0.0</td>\n",
       "      <td>0.0</td>\n",
       "      <td>0.0</td>\n",
       "      <td>0.0</td>\n",
       "      <td>0.0</td>\n",
       "      <td>0.0</td>\n",
       "      <td>1114.0</td>\n",
       "      <td>...</td>\n",
       "      <td>115236.0</td>\n",
       "      <td>269704.0</td>\n",
       "      <td>251116.0</td>\n",
       "      <td>209908.0</td>\n",
       "      <td>141762.0</td>\n",
       "      <td>132818.0</td>\n",
       "      <td>1980.0</td>\n",
       "      <td>0.0</td>\n",
       "      <td>0.0</td>\n",
       "      <td>0</td>\n",
       "    </tr>\n",
       "    <tr>\n",
       "      <th>16790</th>\n",
       "      <td>1834.0</td>\n",
       "      <td>10.0</td>\n",
       "      <td>10.000000</td>\n",
       "      <td>0.0</td>\n",
       "      <td>0.0</td>\n",
       "      <td>0.0</td>\n",
       "      <td>0.0</td>\n",
       "      <td>0.0</td>\n",
       "      <td>0.0</td>\n",
       "      <td>174.0</td>\n",
       "      <td>...</td>\n",
       "      <td>4574.0</td>\n",
       "      <td>14066.0</td>\n",
       "      <td>55386.0</td>\n",
       "      <td>1020.0</td>\n",
       "      <td>8.0</td>\n",
       "      <td>0.0</td>\n",
       "      <td>0.0</td>\n",
       "      <td>0.0</td>\n",
       "      <td>0.0</td>\n",
       "      <td>0</td>\n",
       "    </tr>\n",
       "    <tr>\n",
       "      <th>16791</th>\n",
       "      <td>39404.0</td>\n",
       "      <td>430.0</td>\n",
       "      <td>408.000000</td>\n",
       "      <td>0.0</td>\n",
       "      <td>0.0</td>\n",
       "      <td>0.0</td>\n",
       "      <td>0.0</td>\n",
       "      <td>0.0</td>\n",
       "      <td>206.0</td>\n",
       "      <td>180634.0</td>\n",
       "      <td>...</td>\n",
       "      <td>182788.0</td>\n",
       "      <td>465230.0</td>\n",
       "      <td>389222.0</td>\n",
       "      <td>195490.0</td>\n",
       "      <td>100892.0</td>\n",
       "      <td>159218.0</td>\n",
       "      <td>10278.0</td>\n",
       "      <td>0.0</td>\n",
       "      <td>0.0</td>\n",
       "      <td>0</td>\n",
       "    </tr>\n",
       "  </tbody>\n",
       "</table>\n",
       "<p>16792 rows × 163 columns</p>\n",
       "</div>"
      ],
      "text/plain": [
       "         aa_000  ac_000         ad_000  ae_000  af_000  ag_000  ag_001  \\\n",
       "0       29118.0   424.0     388.000000     0.0     0.0     0.0     0.0   \n",
       "1      602642.0     0.0  166516.023896     0.0     0.0   156.0    12.0   \n",
       "2        6050.0   784.0     676.000000     0.0     0.0     0.0     0.0   \n",
       "3       41606.0   194.0     180.000000     0.0     0.0     0.0     0.0   \n",
       "4       78294.0     0.0  193762.081371     0.0     0.0     0.0     0.0   \n",
       "...         ...     ...            ...     ...     ...     ...     ...   \n",
       "16787  166838.0   482.0     426.000000     0.0     0.0     0.0     0.0   \n",
       "16788   60038.0   124.0      88.000000     0.0     0.0     0.0     0.0   \n",
       "16789   29898.0  1568.0  194822.155641     0.0     0.0     0.0     0.0   \n",
       "16790    1834.0    10.0      10.000000     0.0     0.0     0.0     0.0   \n",
       "16791   39404.0   430.0     408.000000     0.0     0.0     0.0     0.0   \n",
       "\n",
       "       ag_002    ag_003     ag_004  ...     ee_003     ee_004     ee_005  \\\n",
       "0         0.0      32.0    91538.0  ...   125120.0   242876.0   217232.0   \n",
       "1         2.0    2352.0  5776762.0  ...  3792460.0  3491992.0  1041890.0   \n",
       "2         0.0       0.0      180.0  ...    11596.0    39062.0   206134.0   \n",
       "3         0.0       0.0    28038.0  ...   250656.0   630484.0   208272.0   \n",
       "4         0.0       0.0   138500.0  ...   275300.0   623922.0   568556.0   \n",
       "...       ...       ...        ...  ...        ...        ...        ...   \n",
       "16787    62.0  394326.0  3639036.0  ...   235720.0   614462.0   607356.0   \n",
       "16788     0.0       0.0      136.0  ...   181224.0   484940.0   447586.0   \n",
       "16789     0.0       0.0     1114.0  ...   115236.0   269704.0   251116.0   \n",
       "16790     0.0       0.0      174.0  ...     4574.0    14066.0    55386.0   \n",
       "16791     0.0     206.0   180634.0  ...   182788.0   465230.0   389222.0   \n",
       "\n",
       "          ee_006    ee_007    ee_008   ee_009  ef_000  eg_000  class  \n",
       "0       151480.0  111020.0  189996.0   5682.0     0.0     0.0      0  \n",
       "1       452962.0  206196.0  351870.0  10394.0     0.0     0.0      0  \n",
       "2          820.0       0.0       0.0      0.0     0.0     0.0      0  \n",
       "3       113592.0  257094.0    1060.0      0.0     0.0     0.0      0  \n",
       "4       521004.0  437128.0  466244.0  21308.0     0.0     0.0      0  \n",
       "...          ...       ...       ...      ...     ...     ...    ...  \n",
       "16787  4336194.0  914256.0   11582.0      0.0     0.0     0.0      0  \n",
       "16788   445130.0  352112.0  350890.0  18408.0     0.0     0.0      0  \n",
       "16789   209908.0  141762.0  132818.0   1980.0     0.0     0.0      0  \n",
       "16790     1020.0       8.0       0.0      0.0     0.0     0.0      0  \n",
       "16791   195490.0  100892.0  159218.0  10278.0     0.0     0.0      0  \n",
       "\n",
       "[16792 rows x 163 columns]"
      ]
     },
     "execution_count": 7,
     "metadata": {},
     "output_type": "execute_result"
    }
   ],
   "source": [
    "test = pd.read_csv('Final_test_data.csv')\n",
    "test"
   ]
  },
  {
   "cell_type": "code",
   "execution_count": 8,
   "metadata": {
    "id": "fGCZb0IBPpnY"
   },
   "outputs": [],
   "source": [
    "X_train = train.drop('class',axis=1)\n",
    "y_train = train['class']"
   ]
  },
  {
   "cell_type": "code",
   "execution_count": 9,
   "metadata": {
    "id": "tKKkzjWHP4TI"
   },
   "outputs": [],
   "source": [
    "X_test = test.drop('class',axis=1)\n",
    "y_test = test['class']"
   ]
  },
  {
   "cell_type": "code",
   "execution_count": 10,
   "metadata": {
    "id": "UIesHFpBQQ8O"
   },
   "outputs": [],
   "source": [
    "from sklearn.preprocessing import MinMaxScaler"
   ]
  },
  {
   "cell_type": "code",
   "execution_count": 11,
   "metadata": {
    "id": "IcsTT8rXQELg"
   },
   "outputs": [],
   "source": [
    "def scale_data(df):\n",
    "  min_max = MinMaxScaler()\n",
    "  df = pd.DataFrame(data=min_max.fit_transform(df),columns=df.columns)\n",
    "  return df,min_max"
   ]
  },
  {
   "cell_type": "code",
   "execution_count": 12,
   "metadata": {
    "id": "visR9MIsQlaH"
   },
   "outputs": [],
   "source": [
    "X_train , scaler = scale_data(X_train)\n",
    "X_test = pd.DataFrame(data=scaler.transform(X_test),columns=X_test.columns)"
   ]
  },
  {
   "cell_type": "markdown",
   "metadata": {
    "id": "ggY_mD0sRAoG"
   },
   "source": [
    "# Models"
   ]
  },
  {
   "cell_type": "code",
   "execution_count": 14,
   "metadata": {
    "id": "lVMcv5HiRhCE"
   },
   "outputs": [],
   "source": [
    "def hyper_tuning(x,y,model,params,cv=10,verbose=10):\n",
    "\n",
    "  clf = GridSearchCV(estimator = model,\n",
    "                     param_grid=params,\n",
    "                     scoring='f1_macro',\n",
    "                     cv=cv,\n",
    "                     verbose=verbose,\n",
    "                     n_jobs=-1)\n",
    "  \n",
    "  clf.fit(x,y)\n",
    "  return clf.best_params_ , clf.best_score_"
   ]
  },
  {
   "cell_type": "code",
   "execution_count": 15,
   "metadata": {
    "id": "at96h7ogRfZR"
   },
   "outputs": [],
   "source": [
    "def plot_confusion(y_test,y_pred):\n",
    "\n",
    "  cf_mat_test = confusion_matrix(y_test,y_pred)\n",
    "\n",
    "  group_names = ['TN','FP','FN','TP']\n",
    "  group_count = ['{}'.format(value) for value in cf_mat_test.flatten()]\n",
    "  labels = [f\"{v1}\\n{v2}\" for v1,v2 in zip(group_names,group_count)]\n",
    "  labels = np.asarray(labels).reshape(2,2)\n",
    "\n",
    "  sns.heatmap(cf_mat_test,annot=labels,fmt='',cmap='Blues')\n",
    "  plt.show()"
   ]
  },
  {
   "cell_type": "code",
   "execution_count": 16,
   "metadata": {
    "id": "rq-gzRmFUpLU"
   },
   "outputs": [],
   "source": [
    "def model_result_pred(model,X_train,X_test,y_train,y_test):\n",
    "\n",
    "  y_train_pred = model.predict(X_train)\n",
    "  y_test_pred = model.predict(X_test)\n",
    "\n",
    "  f1_macro = f1_score(y_test,y_test_pred,average='macro')\n",
    "  \n",
    "  print('\\033[1m'+'Macro-F1 Score: ',f1_macro)\n",
    "\n",
    "  print('\\tTest Confusion Matrix')\n",
    "  plot_confusion(y_test,y_test_pred)\n",
    "\n",
    "  return f1_macro"
   ]
  },
  {
   "cell_type": "markdown",
   "metadata": {
    "id": "cJCcBUBAVTlu"
   },
   "source": [
    "## Logistic Regression"
   ]
  },
  {
   "cell_type": "code",
   "execution_count": 17,
   "metadata": {
    "colab": {
     "base_uri": "https://localhost:8080/"
    },
    "id": "C69EiqQfVehv",
    "outputId": "bd2bbaf5-0291-4c1c-870d-098273a8944a"
   },
   "outputs": [
    {
     "name": "stdout",
     "output_type": "stream",
     "text": [
      "Fitting 10 folds for each of 25 candidates, totalling 250 fits\n",
      "Best Parameters: {'C': 0.9183655753862654, 'tol': 0.08159755784192435} with score of: 0.9452275190157655\n"
     ]
    }
   ],
   "source": [
    "params = {'C':np.random.uniform(0.001,1,5),\n",
    "          'tol':np.random.uniform(0.0001,0.1,5)}\n",
    "\n",
    "best_param_log , best_score_log = hyper_tuning(X_train,y_train,\n",
    "                                               LogisticRegression(n_jobs=-1,random_state=42),\n",
    "                                               params,\n",
    "                                               cv=10,\n",
    "                                               verbose=2)\n",
    "\n",
    "print('Best Parameters:',best_param_log,'with score of:',best_score_log)\n",
    "\n"
   ]
  },
  {
   "cell_type": "markdown",
   "metadata": {
    "id": "8hbUL_SaXNlo"
   },
   "source": [
    "#### Training and Testing"
   ]
  },
  {
   "cell_type": "code",
   "execution_count": 18,
   "metadata": {
    "colab": {
     "base_uri": "https://localhost:8080/",
     "height": 300
    },
    "id": "M4D1OIyEYtbu",
    "outputId": "d68b1e1f-8458-4917-e54b-83548279cfdb"
   },
   "outputs": [
    {
     "name": "stdout",
     "output_type": "stream",
     "text": [
      "\u001b[1mMacro-F1 Score:  0.753415112391743\n",
      "\tTest Confusion Matrix\n"
     ]
    },
    {
     "data": {
      "image/png": "[encoded data removed]",
      "text/plain": [
       "<Figure size 640x480 with 2 Axes>"
      ]
     },
     "metadata": {},
     "output_type": "display_data"
    }
   ],
   "source": [
    "Log_Reg_model = LogisticRegression(C=0.89,tol=0.0999,\n",
    "                                   n_jobs=-1,\n",
    "                                   random_state=42)\n",
    "\n",
    "Log_Reg_model.fit(X_train,y_train)\n",
    "\n",
    "F1_LR = model_result_pred(Log_Reg_model,X_train,X_test,y_train,y_test)"
   ]
  },
  {
   "cell_type": "markdown",
   "metadata": {
    "id": "0P748fbAZhk0"
   },
   "source": [
    "## SVC"
   ]
  },
  {
   "cell_type": "code",
   "execution_count": 19,
   "metadata": {
    "colab": {
     "base_uri": "https://localhost:8080/",
     "height": 397
    },
    "id": "sT-gQnbOa9gf",
    "outputId": "372d2292-ac93-4019-a4c5-8da133c9107a"
   },
   "outputs": [
    {
     "name": "stdout",
     "output_type": "stream",
     "text": [
      "Fitting 10 folds for each of 15 candidates, totalling 150 fits\n",
      "Best Parameters : {'C': 0.6413435055924107, 'kernel': 'poly'} with score of: 0.9592563191753538\n"
     ]
    }
   ],
   "source": [
    "params = {'C':np.random.uniform(0.001,1,5),\n",
    "          'kernel':['rbf','linear','poly']}\n",
    "\n",
    "best_param_svc , best_score_svc = hyper_tuning(X_train,y_train,\n",
    "                                               SVC(),\n",
    "                                               params,\n",
    "                                               cv=10,\n",
    "                                               verbose=2)\n",
    "\n",
    "print('Best Parameters :',best_param_svc,'with score of:',best_score_svc)"
   ]
  },
  {
   "cell_type": "markdown",
   "metadata": {},
   "source": [
    "####  Training and Testing"
   ]
  },
  {
   "cell_type": "code",
   "execution_count": 22,
   "metadata": {},
   "outputs": [
    {
     "name": "stdout",
     "output_type": "stream",
     "text": [
      "\u001b[1mMacro-F1 Score:  0.757788159094716\n",
      "\tTest Confusion Matrix\n"
     ]
    },
    {
     "data": {
      "image/png": "[encoded data removed]",
      "text/plain": [
       "<Figure size 640x480 with 2 Axes>"
      ]
     },
     "metadata": {},
     "output_type": "display_data"
    }
   ],
   "source": [
    "SVC_model = SVC(C=best_param_svc['C'],\n",
    "               kernel='poly',\n",
    "               random_state=42)\n",
    "\n",
    "SVC_model.fit(X_train,y_train)\n",
    "\n",
    "F1_SVC = model_result_pred(SVC_model,X_train,X_test,y_train,y_test)"
   ]
  },
  {
   "cell_type": "markdown",
   "metadata": {},
   "source": [
    "## Decision Tree"
   ]
  },
  {
   "cell_type": "code",
   "execution_count": 24,
   "metadata": {
    "scrolled": true
   },
   "outputs": [
    {
     "name": "stdout",
     "output_type": "stream",
     "text": [
      "Fitting 11 folds for each of 5 candidates, totalling 55 fits\n",
      "Best Paeameter : {'max_depth': 23} with score of: 0.9866249459901199\n"
     ]
    }
   ],
   "source": [
    "params = {'max_depth':np.random.randint(10,25,5)}\n",
    "\n",
    "best_param_dt , best_score_dt = hyper_tuning(X_train,\n",
    "                                            y_train,\n",
    "                                            DecisionTreeClassifier(),\n",
    "                                            params,\n",
    "                                            cv=11)\n",
    "\n",
    "print('Best Paeameter :',best_param_dt,'with score of:', best_score_dt)"
   ]
  },
  {
   "cell_type": "markdown",
   "metadata": {},
   "source": [
    "#### Training and Testing"
   ]
  },
  {
   "cell_type": "code",
   "execution_count": 25,
   "metadata": {
    "scrolled": true
   },
   "outputs": [
    {
     "name": "stdout",
     "output_type": "stream",
     "text": [
      "\u001b[1mMacro-F1 Score:  0.7477764705317163\n",
      "\tTest Confusion Matrix\n"
     ]
    },
    {
     "data": {
      "image/png": "[encoded data removed]",
      "text/plain": [
       "<Figure size 640x480 with 2 Axes>"
      ]
     },
     "metadata": {},
     "output_type": "display_data"
    }
   ],
   "source": [
    "DT_model = DecisionTreeClassifier(max_depth =23)\n",
    "\n",
    "DT_model.fit(X_train,y_train)\n",
    "\n",
    "F1_dt = model_result_pred(DT_model,X_train,X_test,y_train,y_test)"
   ]
  },
  {
   "cell_type": "markdown",
   "metadata": {},
   "source": [
    "## Random Forest"
   ]
  },
  {
   "cell_type": "code",
   "execution_count": 29,
   "metadata": {},
   "outputs": [
    {
     "name": "stdout",
     "output_type": "stream",
     "text": [
      "Fitting 7 folds for each of 20 candidates, totalling 140 fits\n"
     ]
    },
    {
     "name": "stderr",
     "output_type": "stream",
     "text": [
      "[Parallel(n_jobs=-1)]: Using backend ThreadingBackend with 8 concurrent workers.\n",
      "[Parallel(n_jobs=-1)]: Done  34 tasks      | elapsed:    5.1s\n",
      "[Parallel(n_jobs=-1)]: Done 184 tasks      | elapsed:   25.8s\n",
      "[Parallel(n_jobs=-1)]: Done 434 tasks      | elapsed:  1.0min\n"
     ]
    },
    {
     "name": "stdout",
     "output_type": "stream",
     "text": [
      "Best Parameters are: {'max_depth': 80, 'n_estimators': 650} with score of : 0.99369055445937\n"
     ]
    },
    {
     "name": "stderr",
     "output_type": "stream",
     "text": [
      "[Parallel(n_jobs=-1)]: Done 650 out of 650 | elapsed:  1.5min finished\n"
     ]
    }
   ],
   "source": [
    "params = {'n_estimators':[300,500,600,650,700],\n",
    "         'max_depth':[80,110,125,135]}\n",
    "\n",
    "best_param_rf , best_score_rf = hyper_tuning(X_train,\n",
    "                                            y_train,\n",
    "                                            RandomForestClassifier(n_jobs=-1,verbose=1),\n",
    "                                            params,\n",
    "                                            cv=7)\n",
    "\n",
    "print('Best Parameters are:',best_param_rf,'with score of :',best_score_rf)"
   ]
  },
  {
   "cell_type": "markdown",
   "metadata": {},
   "source": [
    "#### Training and testing"
   ]
  },
  {
   "cell_type": "code",
   "execution_count": 31,
   "metadata": {},
   "outputs": [
    {
     "name": "stdout",
     "output_type": "stream",
     "text": [
      "\u001b[1mMacro-F1 Score:  0.8446948039274509\n",
      "\tTest Confusion Matrix\n"
     ]
    },
    {
     "data": {
      "image/png": "[encoded data removed]",
      "text/plain": [
       "<Figure size 640x480 with 2 Axes>"
      ]
     },
     "metadata": {},
     "output_type": "display_data"
    }
   ],
   "source": [
    "RF_model = RandomForestClassifier(n_estimators = best_param_rf['n_estimators'],\n",
    "                                 max_depth = best_param_rf['max_depth'],\n",
    "                                 n_jobs=-1,\n",
    "                                 verbose=0)\n",
    "\n",
    "RF_model.fit(X_train,y_train)\n",
    "\n",
    "F1_rf = model_result_pred(RF_model,X_train,X_test,y_train,y_test)"
   ]
  },
  {
   "cell_type": "markdown",
   "metadata": {},
   "source": [
    "## Gradient Boosting"
   ]
  },
  {
   "cell_type": "code",
   "execution_count": 33,
   "metadata": {},
   "outputs": [
    {
     "name": "stdout",
     "output_type": "stream",
     "text": [
      "Fitting 6 folds for each of 20 candidates, totalling 120 fits\n",
      "Best Parameters: {'learning_rate': 1, 'max_depth': 15} with score : 0.9942985291983674\n"
     ]
    }
   ],
   "source": [
    "params = {'max_depth':[4,6,10,15],\n",
    "         'learning_rate':[0.001,0.01,0.1,1,10]}\n",
    "\n",
    "best_param_gb , best_score_gb = hyper_tuning(X_train,\n",
    "                                            y_train,\n",
    "                                            GradientBoostingClassifier(random_state=42),\n",
    "                                            params,\n",
    "                                            cv=6)\n",
    "\n",
    "print('Best Parameters:',best_param_gb,'with score :',best_score_gb)"
   ]
  },
  {
   "cell_type": "markdown",
   "metadata": {},
   "source": [
    "#### Training And Testing"
   ]
  },
  {
   "cell_type": "code",
   "execution_count": 35,
   "metadata": {
    "scrolled": true
   },
   "outputs": [
    {
     "name": "stdout",
     "output_type": "stream",
     "text": [
      "\u001b[1mMacro-F1 Score:  0.8296537831688477\n",
      "\tTest Confusion Matrix\n"
     ]
    },
    {
     "data": {
      "image/png": "[encoded data removed]",
      "text/plain": [
       "<Figure size 640x480 with 2 Axes>"
      ]
     },
     "metadata": {},
     "output_type": "display_data"
    }
   ],
   "source": [
    "GB_model = GradientBoostingClassifier(max_depth=best_param_gb['max_depth'],\n",
    "                                     learning_rate=best_param_gb['learning_rate'],\n",
    "                                     random_state=42)\n",
    "\n",
    "GB_model.fit(X_train,y_train)\n",
    "\n",
    "F1_gb = model_result_pred(GB_model,X_train,X_test,y_train,y_test)"
   ]
  },
  {
   "cell_type": "markdown",
   "metadata": {},
   "source": [
    "## AdaBoost Classifier"
   ]
  },
  {
   "cell_type": "code",
   "execution_count": 36,
   "metadata": {
    "scrolled": true
   },
   "outputs": [
    {
     "name": "stdout",
     "output_type": "stream",
     "text": [
      "Fitting 4 folds for each of 6 candidates, totalling 24 fits\n",
      "Best parameters are:  {'n_estimators': 800} with score : 0.9933338463898759\n"
     ]
    }
   ],
   "source": [
    "params = {'n_estimators':[400,500,600,700,750,800]}\n",
    "\n",
    "best_param_ab ,best_score_ab = hyper_tuning(X_train,\n",
    "                                           y_train,\n",
    "                                           AdaBoostClassifier(random_state=42),\n",
    "                                           params,\n",
    "                                           cv=4)\n",
    "\n",
    "print('Best parameters are: ',best_param_ab,'with score :',best_score_ab)"
   ]
  },
  {
   "cell_type": "markdown",
   "metadata": {},
   "source": [
    "#### Training and Testing"
   ]
  },
  {
   "cell_type": "code",
   "execution_count": 40,
   "metadata": {
    "scrolled": true
   },
   "outputs": [
    {
     "name": "stdout",
     "output_type": "stream",
     "text": [
      "\u001b[1mMacro-F1 Score:  0.8296482683425277\n",
      "\tTest Confusion Matrix\n"
     ]
    },
    {
     "data": {
      "image/png": "[encoded data removed]",
      "text/plain": [
       "<Figure size 640x480 with 2 Axes>"
      ]
     },
     "metadata": {},
     "output_type": "display_data"
    }
   ],
   "source": [
    "AB_model = AdaBoostClassifier(random_state=42,\n",
    "                              n_estimators = best_param_ab['n_estimators']) \n",
    "\n",
    "\n",
    "# Fit and predict, and obtain train and test scores\n",
    "AB_model.fit(X_train , y_train)\n",
    "# Fit and predict, and obtain train and test scores\n",
    "F1_AB = model_result_pred(AB_model , X_train , X_test , y_train , y_test)"
   ]
  },
  {
   "cell_type": "markdown",
   "metadata": {},
   "source": [
    "##  XGBoost Classifier"
   ]
  },
  {
   "cell_type": "code",
   "execution_count": 45,
   "metadata": {},
   "outputs": [
    {
     "name": "stdout",
     "output_type": "stream",
     "text": [
      "Fitting 4 folds for each of 48 candidates, totalling 192 fits\n",
      " Best Parameters: {'colsample_bytree': 0.8, 'reg_alpha': 0, 'reg_lambda': 0} with score of: 0.9951969858633367\n"
     ]
    }
   ],
   "source": [
    "params = {'colsample_bytree':[0.3,0.5,0.8],\n",
    "         'reg_alpha':[0,0.5,1,5],\n",
    "         'reg_lambda':[0,0.5,1,5]}\n",
    "\n",
    "best_param_xgb , best_score_xgb = hyper_tuning(X_train,\n",
    "                                              y_train,\n",
    "                                              xgboost.XGBClassifier(n_jobs=-1,random_state=42),\n",
    "                                              params,\n",
    "                                              cv = 4\n",
    "                                              )\n",
    "\n",
    "print(\" Best Parameters:\",best_param_xgb,\"with score of:\",best_score_xgb)"
   ]
  },
  {
   "cell_type": "markdown",
   "metadata": {},
   "source": [
    "#### Training and Testing"
   ]
  },
  {
   "cell_type": "code",
   "execution_count": 49,
   "metadata": {
    "scrolled": true
   },
   "outputs": [
    {
     "name": "stdout",
     "output_type": "stream",
     "text": [
      "\u001b[1mMacro-F1 Score:  0.8665630583655588\n",
      "\tTest Confusion Matrix\n"
     ]
    },
    {
     "data": {
      "image/png": "[encoded data removed]",
      "text/plain": [
       "<Figure size 640x480 with 2 Axes>"
      ]
     },
     "metadata": {},
     "output_type": "display_data"
    }
   ],
   "source": [
    "XGB_model = xgboost.XGBClassifier(colsample_bytree=best_param_xgb['colsample_bytree'],\n",
    "                         reg_alpha=best_param_xgb['reg_alpha'],\n",
    "                         reg_lambda=best_param_xgb['reg_lambda'],\n",
    "                         random_state=42\n",
    "                         ) \n",
    "\n",
    "\n",
    "\n",
    "XGB_model.fit(X_train , y_train)\n",
    "\n",
    "F1_xgb = model_result_pred(XGB_model , X_train , X_test , y_train , y_test)"
   ]
  },
  {
   "cell_type": "markdown",
   "metadata": {},
   "source": [
    "# Model Scores"
   ]
  },
  {
   "cell_type": "code",
   "execution_count": 55,
   "metadata": {},
   "outputs": [
    {
     "name": "stdout",
     "output_type": "stream",
     "text": [
      "+---------------------+--------------------+\n",
      "|        Model        |   Macro-F1 Score   |\n",
      "+---------------------+--------------------+\n",
      "| Logistic Regression | 0.753415112391743  |\n",
      "|         SVC         | 0.757788159094716  |\n",
      "|    Decision Trees   | 0.7477764705317163 |\n",
      "|    Random Forest    | 0.8446948039274509 |\n",
      "|    Gradient Boost   | 0.8296537831688477 |\n",
      "|     Ada Boosting    | 0.8296482683425277 |\n",
      "|       XGBooost      | 0.8665630583655588 |\n",
      "+---------------------+--------------------+\n"
     ]
    }
   ],
   "source": [
    "table=PrettyTable()\n",
    "\n",
    "table.field_names = ['Model','Macro-F1 Score']\n",
    "table.add_row(['Logistic Regression',F1_LR])\n",
    "table.add_row(['SVC',F1_SVC])\n",
    "table.add_row(['Decision Trees',F1_dt])\n",
    "table.add_row(['Random Forest',F1_rf])\n",
    "table.add_row(['Gradient Boost',F1_gb])\n",
    "table.add_row(['Ada Boosting',F1_AB])\n",
    "table.add_row(['XGBooost',F1_xgb])\n",
    "\n",
    "print(table)"
   ]
  }
 ],
 "metadata": {
  "accelerator": "GPU",
  "colab": {
   "provenance": []
  },
  "gpuClass": "standard",
  "kernelspec": {
   "display_name": "Python 3 (ipykernel)",
   "language": "python",
   "name": "python3"
  },
  "language_info": {
   "codemirror_mode": {
    "name": "ipython",
    "version": 3
   },
   "file_extension": ".py",
   "mimetype": "text/x-python",
   "name": "python",
   "nbconvert_exporter": "python",
   "pygments_lexer": "ipython3",
   "version": "3.9.13"
  }
 },
 "nbformat": 4,
 "nbformat_minor": 1
}
