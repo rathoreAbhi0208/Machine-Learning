{
 "cells": [
  {
   "cell_type": "markdown",
   "id": "ad9df02d",
   "metadata": {},
   "source": [
    "# EDA , FE and Linear Regression Models (Algerian Forest Fire Data)\n",
    "\n",
    "## Abhishek Kumar Singh\n",
    "\n",
    "\n",
    "\n",
    "### 1. EDA and FE\n",
    "1. Data Profiling\n",
    "2. Stats Analysis\n",
    "3. Graphical Analysis\n",
    "4. Data Cleaning\n",
    "5. Data Encoding\n",
    "6. Data Scaling\n",
    "\n",
    "### 2. Regression Models\n",
    "1. Linear Regression\n",
    "2. Ridge Regression\n",
    "3. Lasso Regression\n",
    "4. Perfromace Metrices\n",
    "\n",
    "**Dataset**\n",
    "https://archive.ics.uci.edu/ml/datasets/Algerian+Forest+Fires+Dataset++#\n"
   ]
  },
  {
   "cell_type": "markdown",
   "id": "34122fd2",
   "metadata": {},
   "source": [
    "## Attribute Information:\n",
    "\n",
    "1. Date : (DD/MM/YYYY) Day, month ('june' to 'september'), year (2012)\n",
    "Weather data observations\n",
    "2. Temp : temperature noon (temperature max) in Celsius degrees: 22 to 42\n",
    "3. RH : Relative Humidity in %: 21 to 90\n",
    "4. Ws :Wind speed in km/h: 6 to 29\n",
    "5. Rain: total day in mm: 0 to 16.8\n",
    "FWI Components\n",
    "6. Fine Fuel Moisture Code (FFMC) index from the FWI system: 28.6 to 92.5\n",
    "7. Duff Moisture Code (DMC) index from the FWI system: 1.1 to 65.9\n",
    "8. Drought Code (DC) index from the FWI system: 7 to 220.4\n",
    "9. Initial Spread Index (ISI) index from the FWI system: 0 to 18.5\n",
    "10. Buildup Index (BUI) index from the FWI system: 1.1 to 68\n",
    "11. Fire Weather Index (FWI) Index: 0 to 31.1\n",
    "12. Classes: two classes, namely notfire and Fire"
   ]
  },
  {
   "cell_type": "markdown",
   "id": "5d892a67",
   "metadata": {},
   "source": [
    "###  Problem Statement\n",
    "1. To predict Temperature of region where fire is occuring "
   ]
  },
  {
   "cell_type": "markdown",
   "id": "14eff7a4",
   "metadata": {},
   "source": [
    "## Importing Libraries"
   ]
  },
  {
   "cell_type": "code",
   "execution_count": 1,
   "id": "522d0ba4",
   "metadata": {},
   "outputs": [],
   "source": [
    "import pandas as pd\n",
    "import numpy as np\n",
    "import seaborn as sns\n",
    "import matplotlib.pyplot as plt \n",
    "%matplotlib inline\n",
    "\n",
    "import warnings\n",
    "warnings.filterwarnings('ignore')\n",
    "\n",
    "pd.set_option('display.max_columns' , None)"
   ]
  },
  {
   "cell_type": "markdown",
   "id": "1d21ffbe",
   "metadata": {},
   "source": [
    "# 1.0 Importing Dataset and cleaning"
   ]
  },
  {
   "cell_type": "code",
   "execution_count": 2,
   "id": "de803a9d",
   "metadata": {},
   "outputs": [],
   "source": [
    "##reading csv file\n",
    "data = pd.read_csv('Algerian_forest_fires_dataset_UPDATE.csv',header=1)"
   ]
  },
  {
   "cell_type": "code",
   "execution_count": 3,
   "id": "bc803719",
   "metadata": {
    "scrolled": true
   },
   "outputs": [
    {
     "data": {
      "text/html": [
       "<div>\n",
       "<style scoped>\n",
       "    .dataframe tbody tr th:only-of-type {\n",
       "        vertical-align: middle;\n",
       "    }\n",
       "\n",
       "    .dataframe tbody tr th {\n",
       "        vertical-align: top;\n",
       "    }\n",
       "\n",
       "    .dataframe thead th {\n",
       "        text-align: right;\n",
       "    }\n",
       "</style>\n",
       "<table border=\"1\" class=\"dataframe\">\n",
       "  <thead>\n",
       "    <tr style=\"text-align: right;\">\n",
       "      <th></th>\n",
       "      <th>day</th>\n",
       "      <th>month</th>\n",
       "      <th>year</th>\n",
       "      <th>Temperature</th>\n",
       "      <th>RH</th>\n",
       "      <th>Ws</th>\n",
       "      <th>Rain</th>\n",
       "      <th>FFMC</th>\n",
       "      <th>DMC</th>\n",
       "      <th>DC</th>\n",
       "      <th>ISI</th>\n",
       "      <th>BUI</th>\n",
       "      <th>FWI</th>\n",
       "      <th>Classes</th>\n",
       "    </tr>\n",
       "  </thead>\n",
       "  <tbody>\n",
       "    <tr>\n",
       "      <th>0</th>\n",
       "      <td>01</td>\n",
       "      <td>06</td>\n",
       "      <td>2012</td>\n",
       "      <td>29</td>\n",
       "      <td>57</td>\n",
       "      <td>18</td>\n",
       "      <td>0</td>\n",
       "      <td>65.7</td>\n",
       "      <td>3.4</td>\n",
       "      <td>7.6</td>\n",
       "      <td>1.3</td>\n",
       "      <td>3.4</td>\n",
       "      <td>0.5</td>\n",
       "      <td>not fire</td>\n",
       "    </tr>\n",
       "    <tr>\n",
       "      <th>1</th>\n",
       "      <td>02</td>\n",
       "      <td>06</td>\n",
       "      <td>2012</td>\n",
       "      <td>29</td>\n",
       "      <td>61</td>\n",
       "      <td>13</td>\n",
       "      <td>1.3</td>\n",
       "      <td>64.4</td>\n",
       "      <td>4.1</td>\n",
       "      <td>7.6</td>\n",
       "      <td>1</td>\n",
       "      <td>3.9</td>\n",
       "      <td>0.4</td>\n",
       "      <td>not fire</td>\n",
       "    </tr>\n",
       "    <tr>\n",
       "      <th>2</th>\n",
       "      <td>03</td>\n",
       "      <td>06</td>\n",
       "      <td>2012</td>\n",
       "      <td>26</td>\n",
       "      <td>82</td>\n",
       "      <td>22</td>\n",
       "      <td>13.1</td>\n",
       "      <td>47.1</td>\n",
       "      <td>2.5</td>\n",
       "      <td>7.1</td>\n",
       "      <td>0.3</td>\n",
       "      <td>2.7</td>\n",
       "      <td>0.1</td>\n",
       "      <td>not fire</td>\n",
       "    </tr>\n",
       "    <tr>\n",
       "      <th>3</th>\n",
       "      <td>04</td>\n",
       "      <td>06</td>\n",
       "      <td>2012</td>\n",
       "      <td>25</td>\n",
       "      <td>89</td>\n",
       "      <td>13</td>\n",
       "      <td>2.5</td>\n",
       "      <td>28.6</td>\n",
       "      <td>1.3</td>\n",
       "      <td>6.9</td>\n",
       "      <td>0</td>\n",
       "      <td>1.7</td>\n",
       "      <td>0</td>\n",
       "      <td>not fire</td>\n",
       "    </tr>\n",
       "    <tr>\n",
       "      <th>4</th>\n",
       "      <td>05</td>\n",
       "      <td>06</td>\n",
       "      <td>2012</td>\n",
       "      <td>27</td>\n",
       "      <td>77</td>\n",
       "      <td>16</td>\n",
       "      <td>0</td>\n",
       "      <td>64.8</td>\n",
       "      <td>3</td>\n",
       "      <td>14.2</td>\n",
       "      <td>1.2</td>\n",
       "      <td>3.9</td>\n",
       "      <td>0.5</td>\n",
       "      <td>not fire</td>\n",
       "    </tr>\n",
       "  </tbody>\n",
       "</table>\n",
       "</div>"
      ],
      "text/plain": [
       "  day month  year Temperature  RH  Ws Rain   FFMC  DMC    DC  ISI  BUI  FWI  \\\n",
       "0  01    06  2012          29  57  18     0  65.7  3.4   7.6  1.3  3.4  0.5   \n",
       "1  02    06  2012          29  61  13   1.3  64.4  4.1   7.6    1  3.9  0.4   \n",
       "2  03    06  2012          26  82  22  13.1  47.1  2.5   7.1  0.3  2.7  0.1   \n",
       "3  04    06  2012          25  89  13   2.5  28.6  1.3   6.9    0  1.7    0   \n",
       "4  05    06  2012          27  77  16     0  64.8    3  14.2  1.2  3.9  0.5   \n",
       "\n",
       "     Classes    \n",
       "0  not fire     \n",
       "1  not fire     \n",
       "2  not fire     \n",
       "3  not fire     \n",
       "4  not fire     "
      ]
     },
     "execution_count": 3,
     "metadata": {},
     "output_type": "execute_result"
    }
   ],
   "source": [
    "data.head()"
   ]
  },
  {
   "cell_type": "code",
   "execution_count": 4,
   "id": "8dd86332",
   "metadata": {
    "scrolled": true
   },
   "outputs": [
    {
     "data": {
      "text/html": [
       "<div>\n",
       "<style scoped>\n",
       "    .dataframe tbody tr th:only-of-type {\n",
       "        vertical-align: middle;\n",
       "    }\n",
       "\n",
       "    .dataframe tbody tr th {\n",
       "        vertical-align: top;\n",
       "    }\n",
       "\n",
       "    .dataframe thead th {\n",
       "        text-align: right;\n",
       "    }\n",
       "</style>\n",
       "<table border=\"1\" class=\"dataframe\">\n",
       "  <thead>\n",
       "    <tr style=\"text-align: right;\">\n",
       "      <th></th>\n",
       "      <th>day</th>\n",
       "      <th>month</th>\n",
       "      <th>year</th>\n",
       "      <th>Temperature</th>\n",
       "      <th>RH</th>\n",
       "      <th>Ws</th>\n",
       "      <th>Rain</th>\n",
       "      <th>FFMC</th>\n",
       "      <th>DMC</th>\n",
       "      <th>DC</th>\n",
       "      <th>ISI</th>\n",
       "      <th>BUI</th>\n",
       "      <th>FWI</th>\n",
       "      <th>Classes</th>\n",
       "    </tr>\n",
       "  </thead>\n",
       "  <tbody>\n",
       "    <tr>\n",
       "      <th>121</th>\n",
       "      <td>30</td>\n",
       "      <td>09</td>\n",
       "      <td>2012</td>\n",
       "      <td>25</td>\n",
       "      <td>78</td>\n",
       "      <td>14</td>\n",
       "      <td>1.4</td>\n",
       "      <td>45</td>\n",
       "      <td>1.9</td>\n",
       "      <td>7.5</td>\n",
       "      <td>0.2</td>\n",
       "      <td>2.4</td>\n",
       "      <td>0.1</td>\n",
       "      <td>not fire</td>\n",
       "    </tr>\n",
       "    <tr>\n",
       "      <th>122</th>\n",
       "      <td>Sidi-Bel Abbes Region Dataset</td>\n",
       "      <td>NaN</td>\n",
       "      <td>NaN</td>\n",
       "      <td>NaN</td>\n",
       "      <td>NaN</td>\n",
       "      <td>NaN</td>\n",
       "      <td>NaN</td>\n",
       "      <td>NaN</td>\n",
       "      <td>NaN</td>\n",
       "      <td>NaN</td>\n",
       "      <td>NaN</td>\n",
       "      <td>NaN</td>\n",
       "      <td>NaN</td>\n",
       "      <td>NaN</td>\n",
       "    </tr>\n",
       "    <tr>\n",
       "      <th>123</th>\n",
       "      <td>day</td>\n",
       "      <td>month</td>\n",
       "      <td>year</td>\n",
       "      <td>Temperature</td>\n",
       "      <td>RH</td>\n",
       "      <td>Ws</td>\n",
       "      <td>Rain</td>\n",
       "      <td>FFMC</td>\n",
       "      <td>DMC</td>\n",
       "      <td>DC</td>\n",
       "      <td>ISI</td>\n",
       "      <td>BUI</td>\n",
       "      <td>FWI</td>\n",
       "      <td>Classes</td>\n",
       "    </tr>\n",
       "    <tr>\n",
       "      <th>124</th>\n",
       "      <td>01</td>\n",
       "      <td>06</td>\n",
       "      <td>2012</td>\n",
       "      <td>32</td>\n",
       "      <td>71</td>\n",
       "      <td>12</td>\n",
       "      <td>0.7</td>\n",
       "      <td>57.1</td>\n",
       "      <td>2.5</td>\n",
       "      <td>8.2</td>\n",
       "      <td>0.6</td>\n",
       "      <td>2.8</td>\n",
       "      <td>0.2</td>\n",
       "      <td>not fire</td>\n",
       "    </tr>\n",
       "  </tbody>\n",
       "</table>\n",
       "</div>"
      ],
      "text/plain": [
       "                               day  month  year  Temperature   RH   Ws  Rain   \\\n",
       "121                             30     09  2012           25   78   14    1.4   \n",
       "122  Sidi-Bel Abbes Region Dataset    NaN   NaN          NaN  NaN  NaN    NaN   \n",
       "123                            day  month  year  Temperature   RH   Ws  Rain    \n",
       "124                             01     06  2012           32   71   12    0.7   \n",
       "\n",
       "     FFMC  DMC   DC  ISI  BUI  FWI    Classes    \n",
       "121    45  1.9  7.5  0.2  2.4  0.1  not fire     \n",
       "122   NaN  NaN  NaN  NaN  NaN  NaN          NaN  \n",
       "123  FFMC  DMC   DC  ISI  BUI  FWI    Classes    \n",
       "124  57.1  2.5  8.2  0.6  2.8  0.2  not fire     "
      ]
     },
     "execution_count": 4,
     "metadata": {},
     "output_type": "execute_result"
    }
   ],
   "source": [
    "data.iloc[121:,:].head(4)"
   ]
  },
  {
   "cell_type": "markdown",
   "id": "def6d0e1",
   "metadata": {},
   "source": [
    "### 1.1 Dropping Rows Having No Information"
   ]
  },
  {
   "cell_type": "code",
   "execution_count": 5,
   "id": "e2e02e52",
   "metadata": {},
   "outputs": [
    {
     "data": {
      "text/html": [
       "<div>\n",
       "<style scoped>\n",
       "    .dataframe tbody tr th:only-of-type {\n",
       "        vertical-align: middle;\n",
       "    }\n",
       "\n",
       "    .dataframe tbody tr th {\n",
       "        vertical-align: top;\n",
       "    }\n",
       "\n",
       "    .dataframe thead th {\n",
       "        text-align: right;\n",
       "    }\n",
       "</style>\n",
       "<table border=\"1\" class=\"dataframe\">\n",
       "  <thead>\n",
       "    <tr style=\"text-align: right;\">\n",
       "      <th></th>\n",
       "      <th>day</th>\n",
       "      <th>month</th>\n",
       "      <th>year</th>\n",
       "      <th>Temperature</th>\n",
       "      <th>RH</th>\n",
       "      <th>Ws</th>\n",
       "      <th>Rain</th>\n",
       "      <th>FFMC</th>\n",
       "      <th>DMC</th>\n",
       "      <th>DC</th>\n",
       "      <th>ISI</th>\n",
       "      <th>BUI</th>\n",
       "      <th>FWI</th>\n",
       "      <th>Classes</th>\n",
       "    </tr>\n",
       "  </thead>\n",
       "  <tbody>\n",
       "    <tr>\n",
       "      <th>121</th>\n",
       "      <td>30</td>\n",
       "      <td>09</td>\n",
       "      <td>2012</td>\n",
       "      <td>25</td>\n",
       "      <td>78</td>\n",
       "      <td>14</td>\n",
       "      <td>1.4</td>\n",
       "      <td>45</td>\n",
       "      <td>1.9</td>\n",
       "      <td>7.5</td>\n",
       "      <td>0.2</td>\n",
       "      <td>2.4</td>\n",
       "      <td>0.1</td>\n",
       "      <td>not fire</td>\n",
       "    </tr>\n",
       "    <tr>\n",
       "      <th>122</th>\n",
       "      <td>01</td>\n",
       "      <td>06</td>\n",
       "      <td>2012</td>\n",
       "      <td>32</td>\n",
       "      <td>71</td>\n",
       "      <td>12</td>\n",
       "      <td>0.7</td>\n",
       "      <td>57.1</td>\n",
       "      <td>2.5</td>\n",
       "      <td>8.2</td>\n",
       "      <td>0.6</td>\n",
       "      <td>2.8</td>\n",
       "      <td>0.2</td>\n",
       "      <td>not fire</td>\n",
       "    </tr>\n",
       "    <tr>\n",
       "      <th>123</th>\n",
       "      <td>02</td>\n",
       "      <td>06</td>\n",
       "      <td>2012</td>\n",
       "      <td>30</td>\n",
       "      <td>73</td>\n",
       "      <td>13</td>\n",
       "      <td>4</td>\n",
       "      <td>55.7</td>\n",
       "      <td>2.7</td>\n",
       "      <td>7.8</td>\n",
       "      <td>0.6</td>\n",
       "      <td>2.9</td>\n",
       "      <td>0.2</td>\n",
       "      <td>not fire</td>\n",
       "    </tr>\n",
       "    <tr>\n",
       "      <th>124</th>\n",
       "      <td>03</td>\n",
       "      <td>06</td>\n",
       "      <td>2012</td>\n",
       "      <td>29</td>\n",
       "      <td>80</td>\n",
       "      <td>14</td>\n",
       "      <td>2</td>\n",
       "      <td>48.7</td>\n",
       "      <td>2.2</td>\n",
       "      <td>7.6</td>\n",
       "      <td>0.3</td>\n",
       "      <td>2.6</td>\n",
       "      <td>0.1</td>\n",
       "      <td>not fire</td>\n",
       "    </tr>\n",
       "  </tbody>\n",
       "</table>\n",
       "</div>"
      ],
      "text/plain": [
       "    day month  year Temperature  RH  Ws Rain   FFMC  DMC   DC  ISI  BUI  FWI  \\\n",
       "121  30    09  2012          25  78  14   1.4    45  1.9  7.5  0.2  2.4  0.1   \n",
       "122  01    06  2012          32  71  12   0.7  57.1  2.5  8.2  0.6  2.8  0.2   \n",
       "123  02    06  2012          30  73  13     4  55.7  2.7  7.8  0.6  2.9  0.2   \n",
       "124  03    06  2012          29  80  14     2  48.7  2.2  7.6  0.3  2.6  0.1   \n",
       "\n",
       "       Classes    \n",
       "121  not fire     \n",
       "122  not fire     \n",
       "123  not fire     \n",
       "124  not fire     "
      ]
     },
     "execution_count": 5,
     "metadata": {},
     "output_type": "execute_result"
    }
   ],
   "source": [
    "## index 122, 123 shoul be removed\n",
    "df = data.copy()\n",
    "\n",
    "df.drop(index=[122,123],inplace=True)\n",
    "df.reset_index(inplace=True)\n",
    "df.drop('index',axis=1,inplace=True)\n",
    "\n",
    "df.iloc[121:].head(4)"
   ]
  },
  {
   "cell_type": "markdown",
   "id": "7d97bb54",
   "metadata": {},
   "source": [
    "### 1.2 Creating region Column"
   ]
  },
  {
   "cell_type": "code",
   "execution_count": 6,
   "id": "fabb5d12",
   "metadata": {
    "scrolled": true
   },
   "outputs": [
    {
     "data": {
      "text/html": [
       "<div>\n",
       "<style scoped>\n",
       "    .dataframe tbody tr th:only-of-type {\n",
       "        vertical-align: middle;\n",
       "    }\n",
       "\n",
       "    .dataframe tbody tr th {\n",
       "        vertical-align: top;\n",
       "    }\n",
       "\n",
       "    .dataframe thead th {\n",
       "        text-align: right;\n",
       "    }\n",
       "</style>\n",
       "<table border=\"1\" class=\"dataframe\">\n",
       "  <thead>\n",
       "    <tr style=\"text-align: right;\">\n",
       "      <th></th>\n",
       "      <th>day</th>\n",
       "      <th>month</th>\n",
       "      <th>year</th>\n",
       "      <th>Temperature</th>\n",
       "      <th>RH</th>\n",
       "      <th>Ws</th>\n",
       "      <th>Rain</th>\n",
       "      <th>FFMC</th>\n",
       "      <th>DMC</th>\n",
       "      <th>DC</th>\n",
       "      <th>ISI</th>\n",
       "      <th>BUI</th>\n",
       "      <th>FWI</th>\n",
       "      <th>Classes</th>\n",
       "      <th>Region</th>\n",
       "    </tr>\n",
       "  </thead>\n",
       "  <tbody>\n",
       "    <tr>\n",
       "      <th>120</th>\n",
       "      <td>29</td>\n",
       "      <td>09</td>\n",
       "      <td>2012</td>\n",
       "      <td>26</td>\n",
       "      <td>80</td>\n",
       "      <td>16</td>\n",
       "      <td>1.8</td>\n",
       "      <td>47.4</td>\n",
       "      <td>2.9</td>\n",
       "      <td>7.7</td>\n",
       "      <td>0.3</td>\n",
       "      <td>3</td>\n",
       "      <td>0.1</td>\n",
       "      <td>not fire</td>\n",
       "      <td>0.0</td>\n",
       "    </tr>\n",
       "    <tr>\n",
       "      <th>121</th>\n",
       "      <td>30</td>\n",
       "      <td>09</td>\n",
       "      <td>2012</td>\n",
       "      <td>25</td>\n",
       "      <td>78</td>\n",
       "      <td>14</td>\n",
       "      <td>1.4</td>\n",
       "      <td>45</td>\n",
       "      <td>1.9</td>\n",
       "      <td>7.5</td>\n",
       "      <td>0.2</td>\n",
       "      <td>2.4</td>\n",
       "      <td>0.1</td>\n",
       "      <td>not fire</td>\n",
       "      <td>0.0</td>\n",
       "    </tr>\n",
       "    <tr>\n",
       "      <th>122</th>\n",
       "      <td>01</td>\n",
       "      <td>06</td>\n",
       "      <td>2012</td>\n",
       "      <td>32</td>\n",
       "      <td>71</td>\n",
       "      <td>12</td>\n",
       "      <td>0.7</td>\n",
       "      <td>57.1</td>\n",
       "      <td>2.5</td>\n",
       "      <td>8.2</td>\n",
       "      <td>0.6</td>\n",
       "      <td>2.8</td>\n",
       "      <td>0.2</td>\n",
       "      <td>not fire</td>\n",
       "      <td>1.0</td>\n",
       "    </tr>\n",
       "    <tr>\n",
       "      <th>123</th>\n",
       "      <td>02</td>\n",
       "      <td>06</td>\n",
       "      <td>2012</td>\n",
       "      <td>30</td>\n",
       "      <td>73</td>\n",
       "      <td>13</td>\n",
       "      <td>4</td>\n",
       "      <td>55.7</td>\n",
       "      <td>2.7</td>\n",
       "      <td>7.8</td>\n",
       "      <td>0.6</td>\n",
       "      <td>2.9</td>\n",
       "      <td>0.2</td>\n",
       "      <td>not fire</td>\n",
       "      <td>1.0</td>\n",
       "    </tr>\n",
       "    <tr>\n",
       "      <th>124</th>\n",
       "      <td>03</td>\n",
       "      <td>06</td>\n",
       "      <td>2012</td>\n",
       "      <td>29</td>\n",
       "      <td>80</td>\n",
       "      <td>14</td>\n",
       "      <td>2</td>\n",
       "      <td>48.7</td>\n",
       "      <td>2.2</td>\n",
       "      <td>7.6</td>\n",
       "      <td>0.3</td>\n",
       "      <td>2.6</td>\n",
       "      <td>0.1</td>\n",
       "      <td>not fire</td>\n",
       "      <td>1.0</td>\n",
       "    </tr>\n",
       "  </tbody>\n",
       "</table>\n",
       "</div>"
      ],
      "text/plain": [
       "    day month  year Temperature  RH  Ws Rain   FFMC  DMC   DC  ISI  BUI  FWI  \\\n",
       "120  29    09  2012          26  80  16   1.8  47.4  2.9  7.7  0.3    3  0.1   \n",
       "121  30    09  2012          25  78  14   1.4    45  1.9  7.5  0.2  2.4  0.1   \n",
       "122  01    06  2012          32  71  12   0.7  57.1  2.5  8.2  0.6  2.8  0.2   \n",
       "123  02    06  2012          30  73  13     4  55.7  2.7  7.8  0.6  2.9  0.2   \n",
       "124  03    06  2012          29  80  14     2  48.7  2.2  7.6  0.3  2.6  0.1   \n",
       "\n",
       "       Classes    Region  \n",
       "120  not fire        0.0  \n",
       "121  not fire        0.0  \n",
       "122  not fire        1.0  \n",
       "123  not fire        1.0  \n",
       "124  not fire        1.0  "
      ]
     },
     "execution_count": 6,
     "metadata": {},
     "output_type": "execute_result"
    }
   ],
   "source": [
    "## Creating feature Region 0 for Bejaia and 1 for Sid Bel-abbes\n",
    "df.loc[:122,'Region'] = 0\n",
    "df.loc[122:,'Region'] = 1\n",
    "\n",
    "df.iloc[120:].head()"
   ]
  },
  {
   "cell_type": "markdown",
   "id": "81a60671",
   "metadata": {},
   "source": [
    "### 1.3 DataTypes and Describe"
   ]
  },
  {
   "cell_type": "code",
   "execution_count": 7,
   "id": "5d5f6cf5",
   "metadata": {},
   "outputs": [
    {
     "name": "stdout",
     "output_type": "stream",
     "text": [
      "<class 'pandas.core.frame.DataFrame'>\n",
      "RangeIndex: 244 entries, 0 to 243\n",
      "Data columns (total 15 columns):\n",
      " #   Column       Non-Null Count  Dtype  \n",
      "---  ------       --------------  -----  \n",
      " 0   day          244 non-null    object \n",
      " 1   month        244 non-null    object \n",
      " 2   year         244 non-null    object \n",
      " 3   Temperature  244 non-null    object \n",
      " 4    RH          244 non-null    object \n",
      " 5    Ws          244 non-null    object \n",
      " 6   Rain         244 non-null    object \n",
      " 7   FFMC         244 non-null    object \n",
      " 8   DMC          244 non-null    object \n",
      " 9   DC           244 non-null    object \n",
      " 10  ISI          244 non-null    object \n",
      " 11  BUI          244 non-null    object \n",
      " 12  FWI          244 non-null    object \n",
      " 13  Classes      243 non-null    object \n",
      " 14  Region       244 non-null    float64\n",
      "dtypes: float64(1), object(14)\n",
      "memory usage: 28.7+ KB\n"
     ]
    }
   ],
   "source": [
    "## Information of Data\n",
    "df.info()"
   ]
  },
  {
   "cell_type": "code",
   "execution_count": 8,
   "id": "33ef5e11",
   "metadata": {
    "scrolled": false
   },
   "outputs": [
    {
     "data": {
      "text/html": [
       "<div>\n",
       "<style scoped>\n",
       "    .dataframe tbody tr th:only-of-type {\n",
       "        vertical-align: middle;\n",
       "    }\n",
       "\n",
       "    .dataframe tbody tr th {\n",
       "        vertical-align: top;\n",
       "    }\n",
       "\n",
       "    .dataframe thead th {\n",
       "        text-align: right;\n",
       "    }\n",
       "</style>\n",
       "<table border=\"1\" class=\"dataframe\">\n",
       "  <thead>\n",
       "    <tr style=\"text-align: right;\">\n",
       "      <th></th>\n",
       "      <th>day</th>\n",
       "      <th>month</th>\n",
       "      <th>year</th>\n",
       "      <th>Temperature</th>\n",
       "      <th>RH</th>\n",
       "      <th>Ws</th>\n",
       "      <th>Rain</th>\n",
       "      <th>FFMC</th>\n",
       "      <th>DMC</th>\n",
       "      <th>DC</th>\n",
       "      <th>ISI</th>\n",
       "      <th>BUI</th>\n",
       "      <th>FWI</th>\n",
       "      <th>Classes</th>\n",
       "      <th>Region</th>\n",
       "    </tr>\n",
       "  </thead>\n",
       "  <tbody>\n",
       "    <tr>\n",
       "      <th>count</th>\n",
       "      <td>244</td>\n",
       "      <td>244</td>\n",
       "      <td>244</td>\n",
       "      <td>244</td>\n",
       "      <td>244</td>\n",
       "      <td>244</td>\n",
       "      <td>244</td>\n",
       "      <td>244</td>\n",
       "      <td>244</td>\n",
       "      <td>244</td>\n",
       "      <td>244</td>\n",
       "      <td>244</td>\n",
       "      <td>244</td>\n",
       "      <td>243</td>\n",
       "      <td>244.000000</td>\n",
       "    </tr>\n",
       "    <tr>\n",
       "      <th>unique</th>\n",
       "      <td>31</td>\n",
       "      <td>4</td>\n",
       "      <td>1</td>\n",
       "      <td>19</td>\n",
       "      <td>62</td>\n",
       "      <td>18</td>\n",
       "      <td>39</td>\n",
       "      <td>173</td>\n",
       "      <td>166</td>\n",
       "      <td>198</td>\n",
       "      <td>106</td>\n",
       "      <td>174</td>\n",
       "      <td>127</td>\n",
       "      <td>8</td>\n",
       "      <td>NaN</td>\n",
       "    </tr>\n",
       "    <tr>\n",
       "      <th>top</th>\n",
       "      <td>14</td>\n",
       "      <td>07</td>\n",
       "      <td>2012</td>\n",
       "      <td>35</td>\n",
       "      <td>64</td>\n",
       "      <td>14</td>\n",
       "      <td>0</td>\n",
       "      <td>88.9</td>\n",
       "      <td>7.9</td>\n",
       "      <td>8</td>\n",
       "      <td>1.1</td>\n",
       "      <td>3</td>\n",
       "      <td>0.4</td>\n",
       "      <td>fire</td>\n",
       "      <td>NaN</td>\n",
       "    </tr>\n",
       "    <tr>\n",
       "      <th>freq</th>\n",
       "      <td>8</td>\n",
       "      <td>62</td>\n",
       "      <td>244</td>\n",
       "      <td>29</td>\n",
       "      <td>10</td>\n",
       "      <td>43</td>\n",
       "      <td>133</td>\n",
       "      <td>8</td>\n",
       "      <td>5</td>\n",
       "      <td>5</td>\n",
       "      <td>8</td>\n",
       "      <td>5</td>\n",
       "      <td>12</td>\n",
       "      <td>131</td>\n",
       "      <td>NaN</td>\n",
       "    </tr>\n",
       "    <tr>\n",
       "      <th>mean</th>\n",
       "      <td>NaN</td>\n",
       "      <td>NaN</td>\n",
       "      <td>NaN</td>\n",
       "      <td>NaN</td>\n",
       "      <td>NaN</td>\n",
       "      <td>NaN</td>\n",
       "      <td>NaN</td>\n",
       "      <td>NaN</td>\n",
       "      <td>NaN</td>\n",
       "      <td>NaN</td>\n",
       "      <td>NaN</td>\n",
       "      <td>NaN</td>\n",
       "      <td>NaN</td>\n",
       "      <td>NaN</td>\n",
       "      <td>0.500000</td>\n",
       "    </tr>\n",
       "    <tr>\n",
       "      <th>std</th>\n",
       "      <td>NaN</td>\n",
       "      <td>NaN</td>\n",
       "      <td>NaN</td>\n",
       "      <td>NaN</td>\n",
       "      <td>NaN</td>\n",
       "      <td>NaN</td>\n",
       "      <td>NaN</td>\n",
       "      <td>NaN</td>\n",
       "      <td>NaN</td>\n",
       "      <td>NaN</td>\n",
       "      <td>NaN</td>\n",
       "      <td>NaN</td>\n",
       "      <td>NaN</td>\n",
       "      <td>NaN</td>\n",
       "      <td>0.501028</td>\n",
       "    </tr>\n",
       "    <tr>\n",
       "      <th>min</th>\n",
       "      <td>NaN</td>\n",
       "      <td>NaN</td>\n",
       "      <td>NaN</td>\n",
       "      <td>NaN</td>\n",
       "      <td>NaN</td>\n",
       "      <td>NaN</td>\n",
       "      <td>NaN</td>\n",
       "      <td>NaN</td>\n",
       "      <td>NaN</td>\n",
       "      <td>NaN</td>\n",
       "      <td>NaN</td>\n",
       "      <td>NaN</td>\n",
       "      <td>NaN</td>\n",
       "      <td>NaN</td>\n",
       "      <td>0.000000</td>\n",
       "    </tr>\n",
       "    <tr>\n",
       "      <th>25%</th>\n",
       "      <td>NaN</td>\n",
       "      <td>NaN</td>\n",
       "      <td>NaN</td>\n",
       "      <td>NaN</td>\n",
       "      <td>NaN</td>\n",
       "      <td>NaN</td>\n",
       "      <td>NaN</td>\n",
       "      <td>NaN</td>\n",
       "      <td>NaN</td>\n",
       "      <td>NaN</td>\n",
       "      <td>NaN</td>\n",
       "      <td>NaN</td>\n",
       "      <td>NaN</td>\n",
       "      <td>NaN</td>\n",
       "      <td>0.000000</td>\n",
       "    </tr>\n",
       "    <tr>\n",
       "      <th>50%</th>\n",
       "      <td>NaN</td>\n",
       "      <td>NaN</td>\n",
       "      <td>NaN</td>\n",
       "      <td>NaN</td>\n",
       "      <td>NaN</td>\n",
       "      <td>NaN</td>\n",
       "      <td>NaN</td>\n",
       "      <td>NaN</td>\n",
       "      <td>NaN</td>\n",
       "      <td>NaN</td>\n",
       "      <td>NaN</td>\n",
       "      <td>NaN</td>\n",
       "      <td>NaN</td>\n",
       "      <td>NaN</td>\n",
       "      <td>0.500000</td>\n",
       "    </tr>\n",
       "    <tr>\n",
       "      <th>75%</th>\n",
       "      <td>NaN</td>\n",
       "      <td>NaN</td>\n",
       "      <td>NaN</td>\n",
       "      <td>NaN</td>\n",
       "      <td>NaN</td>\n",
       "      <td>NaN</td>\n",
       "      <td>NaN</td>\n",
       "      <td>NaN</td>\n",
       "      <td>NaN</td>\n",
       "      <td>NaN</td>\n",
       "      <td>NaN</td>\n",
       "      <td>NaN</td>\n",
       "      <td>NaN</td>\n",
       "      <td>NaN</td>\n",
       "      <td>1.000000</td>\n",
       "    </tr>\n",
       "    <tr>\n",
       "      <th>max</th>\n",
       "      <td>NaN</td>\n",
       "      <td>NaN</td>\n",
       "      <td>NaN</td>\n",
       "      <td>NaN</td>\n",
       "      <td>NaN</td>\n",
       "      <td>NaN</td>\n",
       "      <td>NaN</td>\n",
       "      <td>NaN</td>\n",
       "      <td>NaN</td>\n",
       "      <td>NaN</td>\n",
       "      <td>NaN</td>\n",
       "      <td>NaN</td>\n",
       "      <td>NaN</td>\n",
       "      <td>NaN</td>\n",
       "      <td>1.000000</td>\n",
       "    </tr>\n",
       "  </tbody>\n",
       "</table>\n",
       "</div>"
      ],
      "text/plain": [
       "        day month  year Temperature   RH   Ws Rain   FFMC  DMC   DC  ISI  BUI  \\\n",
       "count   244   244   244         244  244  244   244   244  244  244  244  244   \n",
       "unique   31     4     1          19   62   18    39   173  166  198  106  174   \n",
       "top      14    07  2012          35   64   14     0  88.9  7.9    8  1.1    3   \n",
       "freq      8    62   244          29   10   43   133     8    5    5    8    5   \n",
       "mean    NaN   NaN   NaN         NaN  NaN  NaN   NaN   NaN  NaN  NaN  NaN  NaN   \n",
       "std     NaN   NaN   NaN         NaN  NaN  NaN   NaN   NaN  NaN  NaN  NaN  NaN   \n",
       "min     NaN   NaN   NaN         NaN  NaN  NaN   NaN   NaN  NaN  NaN  NaN  NaN   \n",
       "25%     NaN   NaN   NaN         NaN  NaN  NaN   NaN   NaN  NaN  NaN  NaN  NaN   \n",
       "50%     NaN   NaN   NaN         NaN  NaN  NaN   NaN   NaN  NaN  NaN  NaN  NaN   \n",
       "75%     NaN   NaN   NaN         NaN  NaN  NaN   NaN   NaN  NaN  NaN  NaN  NaN   \n",
       "max     NaN   NaN   NaN         NaN  NaN  NaN   NaN   NaN  NaN  NaN  NaN  NaN   \n",
       "\n",
       "        FWI Classes        Region  \n",
       "count   244       243  244.000000  \n",
       "unique  127         8         NaN  \n",
       "top     0.4   fire            NaN  \n",
       "freq     12       131         NaN  \n",
       "mean    NaN       NaN    0.500000  \n",
       "std     NaN       NaN    0.501028  \n",
       "min     NaN       NaN    0.000000  \n",
       "25%     NaN       NaN    0.000000  \n",
       "50%     NaN       NaN    0.500000  \n",
       "75%     NaN       NaN    1.000000  \n",
       "max     NaN       NaN    1.000000  "
      ]
     },
     "execution_count": 8,
     "metadata": {},
     "output_type": "execute_result"
    }
   ],
   "source": [
    "df.describe(include='all')"
   ]
  },
  {
   "cell_type": "code",
   "execution_count": 9,
   "id": "5bd5aa81",
   "metadata": {},
   "outputs": [
    {
     "data": {
      "text/plain": [
       "Index(['day', 'month', 'year', 'Temperature', ' RH', ' Ws', 'Rain ', 'FFMC',\n",
       "       'DMC', 'DC', 'ISI', 'BUI', 'FWI', 'Classes  ', 'Region'],\n",
       "      dtype='object')"
      ]
     },
     "execution_count": 9,
     "metadata": {},
     "output_type": "execute_result"
    }
   ],
   "source": [
    "df.columns"
   ]
  },
  {
   "cell_type": "markdown",
   "id": "a67f07a3",
   "metadata": {},
   "source": [
    "### 1.4 DataCleaning"
   ]
  },
  {
   "cell_type": "code",
   "execution_count": 10,
   "id": "4def9429",
   "metadata": {
    "scrolled": true
   },
   "outputs": [
    {
     "data": {
      "text/plain": [
       "Index(['day', 'month', 'year', 'Temperature', 'RH', 'Ws', 'Rain', 'FFMC',\n",
       "       'DMC', 'DC', 'ISI', 'BUI', 'FWI', 'Classes', 'Region'],\n",
       "      dtype='object')"
      ]
     },
     "execution_count": 10,
     "metadata": {},
     "output_type": "execute_result"
    }
   ],
   "source": [
    "## Some Column Names Have spaces in their names\n",
    "df.columns = [col_name.strip() for col_name in df.columns]\n",
    "df.columns"
   ]
  },
  {
   "cell_type": "code",
   "execution_count": 11,
   "id": "843d01da",
   "metadata": {},
   "outputs": [],
   "source": [
    "## Converting All Features values to string to clean spaces\n",
    "df =df.astype(str)"
   ]
  },
  {
   "cell_type": "code",
   "execution_count": 12,
   "id": "f02328ca",
   "metadata": {},
   "outputs": [],
   "source": [
    "for feature in df.iloc[:,7:15].columns:\n",
    "    df[feature] = df[feature].str.replace(' ','')"
   ]
  },
  {
   "cell_type": "code",
   "execution_count": 13,
   "id": "a2a93db7",
   "metadata": {
    "scrolled": true
   },
   "outputs": [
    {
     "data": {
      "text/plain": [
       "fire       137\n",
       "notfire    106\n",
       "nan          1\n",
       "Name: Classes, dtype: int64"
      ]
     },
     "execution_count": 13,
     "metadata": {},
     "output_type": "execute_result"
    }
   ],
   "source": [
    "##checking for Classes Columns\n",
    "df['Classes'].value_counts()"
   ]
  },
  {
   "cell_type": "code",
   "execution_count": 14,
   "id": "8a44be73",
   "metadata": {},
   "outputs": [
    {
     "data": {
      "text/plain": [
       "Int64Index([165], dtype='int64')"
      ]
     },
     "execution_count": 14,
     "metadata": {},
     "output_type": "execute_result"
    }
   ],
   "source": [
    "##replacing nan value of Classes with fire\n",
    "df[df['Classes']=='nan'].index"
   ]
  },
  {
   "cell_type": "code",
   "execution_count": 15,
   "id": "9bf63a1a",
   "metadata": {},
   "outputs": [],
   "source": [
    "df.loc[165,'Classes'] = 'fire'"
   ]
  },
  {
   "cell_type": "code",
   "execution_count": 16,
   "id": "9b4b6ab7",
   "metadata": {},
   "outputs": [
    {
     "data": {
      "text/plain": [
       "fire       138\n",
       "notfire    106\n",
       "Name: Classes, dtype: int64"
      ]
     },
     "execution_count": 16,
     "metadata": {},
     "output_type": "execute_result"
    }
   ],
   "source": [
    "df['Classes'].value_counts()"
   ]
  },
  {
   "cell_type": "code",
   "execution_count": 17,
   "id": "fcb475ae",
   "metadata": {},
   "outputs": [
    {
     "data": {
      "text/plain": [
       "array(['0.5', '0.4', '0.1', '0', '2.5', '7.2', '7.1', '0.3', '0.9', '5.6',\n",
       "       '0.2', '1.4', '2.2', '2.3', '3.8', '7.5', '8.4', '10.6', '15',\n",
       "       '13.9', '3.9', '12.9', '1.7', '4.9', '6.8', '3.2', '8', '0.6',\n",
       "       '3.4', '0.8', '3.6', '6', '10.9', '4', '8.8', '2.8', '2.1', '1.3',\n",
       "       '7.3', '15.3', '11.3', '11.9', '10.7', '15.7', '6.1', '2.6', '9.9',\n",
       "       '11.6', '12.1', '4.2', '10.2', '6.3', '14.6', '16.1', '17.2',\n",
       "       '16.8', '18.4', '20.4', '22.3', '20.9', '20.3', '13.7', '13.2',\n",
       "       '19.9', '30.2', '5.9', '7.7', '9.7', '8.3', '0.7', '4.1', '1',\n",
       "       '3.1', '1.9', '10', '16.7', '1.2', '5.3', '6.7', '9.5', '12',\n",
       "       '6.4', '5.2', '3', '9.6', '4.7', 'fire', '14.1', '9.1', '13',\n",
       "       '17.3', '30', '25.4', '16.3', '9', '14.5', '13.5', '19.5', '12.6',\n",
       "       '12.7', '21.6', '18.8', '10.5', '5.5', '14.8', '24', '26.3',\n",
       "       '12.2', '18.1', '24.5', '26.9', '31.1', '30.3', '26.1', '16',\n",
       "       '19.4', '2.7', '3.7', '10.3', '5.7', '9.8', '19.3', '17.5', '15.4',\n",
       "       '15.2', '6.5'], dtype=object)"
      ]
     },
     "execution_count": 17,
     "metadata": {},
     "output_type": "execute_result"
    }
   ],
   "source": [
    "##Checking for FWI column\n",
    "df['FWI'].unique()"
   ]
  },
  {
   "cell_type": "code",
   "execution_count": 18,
   "id": "45c695bc",
   "metadata": {},
   "outputs": [
    {
     "data": {
      "text/plain": [
       "Int64Index([165], dtype='int64')"
      ]
     },
     "execution_count": 18,
     "metadata": {},
     "output_type": "execute_result"
    }
   ],
   "source": [
    "## replacing fire value in FWI feature with its mode\n",
    "df[df['FWI']=='fire'].index"
   ]
  },
  {
   "cell_type": "code",
   "execution_count": 19,
   "id": "bcb95e94",
   "metadata": {
    "scrolled": true
   },
   "outputs": [],
   "source": [
    "df.loc[165,'FWI'] = '0.4'"
   ]
  },
  {
   "cell_type": "code",
   "execution_count": 20,
   "id": "b4192049",
   "metadata": {},
   "outputs": [],
   "source": [
    "##Encoding Classes Feature\n",
    "df['Classes'] = df['Classes'].str.replace('notfire','0')\n",
    "df['Classes'] = df['Classes'].str.replace('fire','1')"
   ]
  },
  {
   "cell_type": "markdown",
   "id": "7bedd390",
   "metadata": {},
   "source": [
    "### 1.5 Changing Datatypes"
   ]
  },
  {
   "cell_type": "code",
   "execution_count": 21,
   "id": "b6b5b601",
   "metadata": {},
   "outputs": [],
   "source": [
    "## changing datatypes of features \n",
    "convert_dict = {'Temperature': float,\n",
    "                'RH': int,\n",
    "                'Ws':int,\n",
    "                'Rain':float,\n",
    "                'FFMC':float,\n",
    "                'DMC':float,\n",
    "                'DC':float,\n",
    "                'ISI':float,\n",
    "                'BUI':float,\n",
    "                'FWI':float,\n",
    "                'day':int,\n",
    "                'month':int,\n",
    "                'year':int,\n",
    "                'Classes':int,\n",
    "                'Region':float\n",
    "               }\n",
    " "
   ]
  },
  {
   "cell_type": "code",
   "execution_count": 22,
   "id": "70eac21a",
   "metadata": {},
   "outputs": [
    {
     "data": {
      "text/plain": [
       "day              int32\n",
       "month            int32\n",
       "year             int32\n",
       "Temperature    float64\n",
       "RH               int32\n",
       "Ws               int32\n",
       "Rain           float64\n",
       "FFMC           float64\n",
       "DMC            float64\n",
       "DC             float64\n",
       "ISI            float64\n",
       "BUI            float64\n",
       "FWI            float64\n",
       "Classes          int32\n",
       "Region         float64\n",
       "dtype: object"
      ]
     },
     "execution_count": 22,
     "metadata": {},
     "output_type": "execute_result"
    }
   ],
   "source": [
    "df =df.astype(convert_dict)\n",
    "df.dtypes"
   ]
  },
  {
   "cell_type": "code",
   "execution_count": 23,
   "id": "7010ea51",
   "metadata": {
    "scrolled": true
   },
   "outputs": [
    {
     "data": {
      "text/plain": [
       "(244, 15)"
      ]
     },
     "execution_count": 23,
     "metadata": {},
     "output_type": "execute_result"
    }
   ],
   "source": [
    "df.shape"
   ]
  },
  {
   "cell_type": "markdown",
   "id": "1bf467a7",
   "metadata": {},
   "source": [
    "### 1.6 Checking For Null Values"
   ]
  },
  {
   "cell_type": "code",
   "execution_count": 24,
   "id": "18e38a70",
   "metadata": {
    "scrolled": true
   },
   "outputs": [
    {
     "data": {
      "text/plain": [
       "day            0\n",
       "month          0\n",
       "year           0\n",
       "Temperature    0\n",
       "RH             0\n",
       "Ws             0\n",
       "Rain           0\n",
       "FFMC           0\n",
       "DMC            0\n",
       "DC             0\n",
       "ISI            0\n",
       "BUI            0\n",
       "FWI            0\n",
       "Classes        0\n",
       "Region         0\n",
       "dtype: int64"
      ]
     },
     "execution_count": 24,
     "metadata": {},
     "output_type": "execute_result"
    }
   ],
   "source": [
    "df.isnull().sum()"
   ]
  },
  {
   "cell_type": "markdown",
   "id": "b756eb78",
   "metadata": {},
   "source": [
    "### Insight\n",
    "1. There are no Null Values\n",
    "2. There are 244 rows and 15 columns"
   ]
  },
  {
   "cell_type": "markdown",
   "id": "fe9fedf8",
   "metadata": {},
   "source": [
    "# 2.0 Numerical and Categorical Features"
   ]
  },
  {
   "cell_type": "markdown",
   "id": "2f61ec25",
   "metadata": {},
   "source": [
    "### 2.1 Categorical Features"
   ]
  },
  {
   "cell_type": "code",
   "execution_count": 25,
   "id": "dd9deb3b",
   "metadata": {},
   "outputs": [],
   "source": [
    "cat_features = [feat for feat in df.columns if df[feat].dtype == 'O']"
   ]
  },
  {
   "cell_type": "code",
   "execution_count": 26,
   "id": "512d5b1a",
   "metadata": {},
   "outputs": [],
   "source": [
    "for feature in cat_features:\n",
    "    print(df.groupby(feature)['Region'].value_counts())"
   ]
  },
  {
   "cell_type": "code",
   "execution_count": 27,
   "id": "744cc766",
   "metadata": {},
   "outputs": [
    {
     "data": {
      "text/plain": [
       "<AxesSubplot: xlabel='Classes', ylabel='count'>"
      ]
     },
     "execution_count": 27,
     "metadata": {},
     "output_type": "execute_result"
    },
    {
     "data": {
      "image/png": "[encoded data removed]",
      "text/plain": [
       "<Figure size 432x288 with 1 Axes>"
      ]
     },
     "metadata": {
      "needs_background": "light"
     },
     "output_type": "display_data"
    }
   ],
   "source": [
    "sns.countplot(data=df,x='Classes',hue='Region')"
   ]
  },
  {
   "cell_type": "markdown",
   "id": "906d466c",
   "metadata": {},
   "source": [
    "### Insight\n",
    "1. Sidi Bel-abbes has more occurance of fire"
   ]
  },
  {
   "cell_type": "markdown",
   "id": "07ad8687",
   "metadata": {},
   "source": [
    "### 2.2 Numerical Features"
   ]
  },
  {
   "cell_type": "code",
   "execution_count": 28,
   "id": "cf5c6dc9",
   "metadata": {},
   "outputs": [],
   "source": [
    "num_feature = [col for col in df.columns if df[col].dtype != 'O']"
   ]
  },
  {
   "cell_type": "code",
   "execution_count": 29,
   "id": "cb72c0b0",
   "metadata": {
    "scrolled": true
   },
   "outputs": [
    {
     "data": {
      "text/plain": [
       "day             31\n",
       "month            4\n",
       "year             1\n",
       "Temperature     19\n",
       "RH              62\n",
       "Ws              18\n",
       "Rain            39\n",
       "FFMC           173\n",
       "DMC            166\n",
       "DC             198\n",
       "ISI            106\n",
       "BUI            174\n",
       "FWI            125\n",
       "Classes          2\n",
       "Region           2\n",
       "dtype: int64"
      ]
     },
     "execution_count": 29,
     "metadata": {},
     "output_type": "execute_result"
    }
   ],
   "source": [
    "df[num_feature].nunique()"
   ]
  },
  {
   "cell_type": "markdown",
   "id": "e3cddaeb",
   "metadata": {},
   "source": [
    "### 2.3 Segregating Discrete And Continuos Features"
   ]
  },
  {
   "cell_type": "markdown",
   "id": "7eb6429a",
   "metadata": {},
   "source": [
    "### 2.3.1 Discrete"
   ]
  },
  {
   "cell_type": "code",
   "execution_count": 30,
   "id": "938579dc",
   "metadata": {},
   "outputs": [
    {
     "data": {
      "text/plain": [
       "['day', 'month', 'year', 'Temperature', 'Ws', 'Classes', 'Region']"
      ]
     },
     "execution_count": 30,
     "metadata": {},
     "output_type": "execute_result"
    }
   ],
   "source": [
    "## We are assuming 32 as threshols were feature having less than thdreshold is Discrete\n",
    "disc_feat = [feat for feat in num_feature if len(df[feat].unique())<32]\n",
    "\n",
    "disc_feat"
   ]
  },
  {
   "cell_type": "markdown",
   "id": "7627cdb6",
   "metadata": {},
   "source": [
    "### 2.3.1.1 Discrete vs Target"
   ]
  },
  {
   "cell_type": "code",
   "execution_count": 31,
   "id": "b761df6e",
   "metadata": {
    "scrolled": true
   },
   "outputs": [
    {
     "data": {
      "image/png": "[encoded data removed]",
      "text/plain": [
       "<Figure size 432x288 with 1 Axes>"
      ]
     },
     "metadata": {
      "needs_background": "light"
     },
     "output_type": "display_data"
    },
    {
     "data": {
      "image/png": "[encoded data removed]",
      "text/plain": [
       "<Figure size 432x288 with 1 Axes>"
      ]
     },
     "metadata": {
      "needs_background": "light"
     },
     "output_type": "display_data"
    },
    {
     "data": {
      "image/png": "[encoded data removed]",
      "text/plain": [
       "<Figure size 432x288 with 1 Axes>"
      ]
     },
     "metadata": {
      "needs_background": "light"
     },
     "output_type": "display_data"
    },
    {
     "data": {
      "image/png": "[encoded data removed]",
      "text/plain": [
       "<Figure size 432x288 with 1 Axes>"
      ]
     },
     "metadata": {
      "needs_background": "light"
     },
     "output_type": "display_data"
    },
    {
     "data": {
      "image/png": "[encoded data removed]",
      "text/plain": [
       "<Figure size 432x288 with 1 Axes>"
      ]
     },
     "metadata": {
      "needs_background": "light"
     },
     "output_type": "display_data"
    },
    {
     "data": {
      "image/png": "[encoded data removed]",
      "text/plain": [
       "<Figure size 432x288 with 1 Axes>"
      ]
     },
     "metadata": {
      "needs_background": "light"
     },
     "output_type": "display_data"
    },
    {
     "data": {
      "image/png": "[encoded data removed]",
      "text/plain": [
       "<Figure size 432x288 with 1 Axes>"
      ]
     },
     "metadata": {
      "needs_background": "light"
     },
     "output_type": "display_data"
    }
   ],
   "source": [
    "for feature in disc_feat:\n",
    "    sns.countplot(data=df,x=feature,hue='Classes')\n",
    "    plt.show()"
   ]
  },
  {
   "cell_type": "markdown",
   "id": "84b7ba44",
   "metadata": {},
   "source": [
    "#### Insights\n",
    "1. July and August months have More cases of fire than no fire\n",
    "2. August has Highest No of fire cases\n",
    "3. Overall No of Fire cases are more than No fire\n",
    "4. Temperature Bewteen 30 to 40 has more no of occirance of fire\n",
    "5. WindSpeed between 13 -19 has more occurance of fire\n",
    "6. Bejaia region has less no of occurance of fire than No fire\n",
    "7. Sidi Bel-abbes has more no of occurance of fire case than no fire\n",
    "8. Sidi Bel-abbes has more no of ocurrance of fire than in region Bejaia"
   ]
  },
  {
   "cell_type": "markdown",
   "id": "f0231fe0",
   "metadata": {},
   "source": [
    "### 2.3.2 Continuous Num Features"
   ]
  },
  {
   "cell_type": "code",
   "execution_count": 32,
   "id": "d8683178",
   "metadata": {},
   "outputs": [
    {
     "data": {
      "text/plain": [
       "['RH', 'Rain', 'FFMC', 'DMC', 'DC', 'ISI', 'BUI', 'FWI']"
      ]
     },
     "execution_count": 32,
     "metadata": {},
     "output_type": "execute_result"
    }
   ],
   "source": [
    "cont_features = [feature for feature in num_feature if feature not in disc_feat]\n",
    "cont_features"
   ]
  },
  {
   "cell_type": "markdown",
   "id": "9d2521f7",
   "metadata": {},
   "source": [
    "### 2.3.2.1 Distribution of Continuous Num Features"
   ]
  },
  {
   "cell_type": "code",
   "execution_count": 34,
   "id": "6e01e7ae",
   "metadata": {
    "scrolled": false
   },
   "outputs": [
    {
     "data": {
      "image/png": "[encoded data removed]",
      "text/plain": [
       "<Figure size 432x288 with 1 Axes>"
      ]
     },
     "metadata": {
      "needs_background": "light"
     },
     "output_type": "display_data"
    },
    {
     "data": {
      "image/png": "[encoded data removed]",
      "text/plain": [
       "<Figure size 432x288 with 1 Axes>"
      ]
     },
     "metadata": {
      "needs_background": "light"
     },
     "output_type": "display_data"
    },
    {
     "data": {
      "image/png": "[encoded data removed]",
      "text/plain": [
       "<Figure size 432x288 with 1 Axes>"
      ]
     },
     "metadata": {
      "needs_background": "light"
     },
     "output_type": "display_data"
    },
    {
     "data": {
      "image/png": "[encoded data removed]",
      "text/plain": [
       "<Figure size 432x288 with 1 Axes>"
      ]
     },
     "metadata": {
      "needs_background": "light"
     },
     "output_type": "display_data"
    },
    {
     "data": {
      "image/png": "[encoded data removed]",
      "text/plain": [
       "<Figure size 432x288 with 1 Axes>"
      ]
     },
     "metadata": {
      "needs_background": "light"
     },
     "output_type": "display_data"
    },
    {
     "data": {
      "image/png": "[encoded data removed]",
      "text/plain": [
       "<Figure size 432x288 with 1 Axes>"
      ]
     },
     "metadata": {
      "needs_background": "light"
     },
     "output_type": "display_data"
    },
    {
     "data": {
      "image/png": "[encoded data removed]",
      "text/plain": [
       "<Figure size 432x288 with 1 Axes>"
      ]
     },
     "metadata": {
      "needs_background": "light"
     },
     "output_type": "display_data"
    },
    {
     "data": {
      "image/png": "[encoded data removed]",
      "text/plain": [
       "<Figure size 432x288 with 1 Axes>"
      ]
     },
     "metadata": {
      "needs_background": "light"
     },
     "output_type": "display_data"
    }
   ],
   "source": [
    "## Checking distribution of continuous numerical features\n",
    "\n",
    "for feature in cont_features:\n",
    "    sns.histplot(data=df,x=feature,kde=True,bins=30,color='blue')\n",
    "    plt.show()"
   ]
  },
  {
   "cell_type": "markdown",
   "id": "3a94b9ff",
   "metadata": {},
   "source": [
    "### Insights\n",
    "1. Rain,DMC,DC,ISI,BUI,FWI following log normal Dist.\n",
    "2. FFMC follows left skewd dist.\n",
    "3. RH somehow Following Gaussian Distribution"
   ]
  },
  {
   "cell_type": "markdown",
   "id": "e309d7d1",
   "metadata": {},
   "source": [
    "### 2.4 Checking for outliers"
   ]
  },
  {
   "cell_type": "code",
   "execution_count": 37,
   "id": "41e585a9",
   "metadata": {
    "scrolled": false
   },
   "outputs": [
    {
     "data": {
      "image/png": "[encoded data removed]",
      "text/plain": [
       "<Figure size 432x288 with 1 Axes>"
      ]
     },
     "metadata": {
      "needs_background": "light"
     },
     "output_type": "display_data"
    },
    {
     "data": {
      "image/png": "[encoded data removed]",
      "text/plain": [
       "<Figure size 432x288 with 1 Axes>"
      ]
     },
     "metadata": {
      "needs_background": "light"
     },
     "output_type": "display_data"
    },
    {
     "data": {
      "image/png": "[encoded data removed]",
      "text/plain": [
       "<Figure size 432x288 with 1 Axes>"
      ]
     },
     "metadata": {
      "needs_background": "light"
     },
     "output_type": "display_data"
    },
    {
     "data": {
      "image/png": "[encoded data removed]",
      "text/plain": [
       "<Figure size 432x288 with 1 Axes>"
      ]
     },
     "metadata": {
      "needs_background": "light"
     },
     "output_type": "display_data"
    },
    {
     "data": {
      "image/png": "[encoded data removed]",
      "text/plain": [
       "<Figure size 432x288 with 1 Axes>"
      ]
     },
     "metadata": {
      "needs_background": "light"
     },
     "output_type": "display_data"
    },
    {
     "data": {
      "image/png": "[encoded data removed]",
      "text/plain": [
       "<Figure size 432x288 with 1 Axes>"
      ]
     },
     "metadata": {
      "needs_background": "light"
     },
     "output_type": "display_data"
    },
    {
     "data": {
      "image/png": "[encoded data removed]",
      "text/plain": [
       "<Figure size 432x288 with 1 Axes>"
      ]
     },
     "metadata": {
      "needs_background": "light"
     },
     "output_type": "display_data"
    },
    {
     "data": {
      "image/png": "[encoded data removed]",
      "text/plain": [
       "<Figure size 432x288 with 1 Axes>"
      ]
     },
     "metadata": {
      "needs_background": "light"
     },
     "output_type": "display_data"
    },
    {
     "data": {
      "image/png": "[encoded data removed]",
      "text/plain": [
       "<Figure size 432x288 with 1 Axes>"
      ]
     },
     "metadata": {
      "needs_background": "light"
     },
     "output_type": "display_data"
    },
    {
     "data": {
      "image/png": "[encoded data removed]",
      "text/plain": [
       "<Figure size 432x288 with 1 Axes>"
      ]
     },
     "metadata": {
      "needs_background": "light"
     },
     "output_type": "display_data"
    },
    {
     "data": {
      "image/png": "[encoded data removed]",
      "text/plain": [
       "<Figure size 432x288 with 1 Axes>"
      ]
     },
     "metadata": {
      "needs_background": "light"
     },
     "output_type": "display_data"
    },
    {
     "data": {
      "image/png": "[encoded data removed]",
      "text/plain": [
       "<Figure size 432x288 with 1 Axes>"
      ]
     },
     "metadata": {
      "needs_background": "light"
     },
     "output_type": "display_data"
    }
   ],
   "source": [
    "for feature in  [ feature for feature in num_feature if feature not in ['day','month','year']]:\n",
    "    sns.boxplot(data=df,y=feature,color='orange')\n",
    "    plt.show()"
   ]
  },
  {
   "cell_type": "markdown",
   "id": "e1d1dab8",
   "metadata": {},
   "source": [
    "### Insights\n",
    "1. Temperature , FFMC have outlier in lower boundary\n",
    "2. WindSpeed , Ws has outliers on both boundaries\n",
    "3. Rain, DMC,DC,ISI,BUI and FWI have outliers on upper boundary"
   ]
  },
  {
   "cell_type": "markdown",
   "id": "ed236f65",
   "metadata": {},
   "source": [
    "### 3.0 Correlation between Num Features"
   ]
  },
  {
   "cell_type": "code",
   "execution_count": 46,
   "id": "5947d0c1",
   "metadata": {
    "scrolled": true
   },
   "outputs": [
    {
     "data": {
      "text/html": [
       "<div>\n",
       "<style scoped>\n",
       "    .dataframe tbody tr th:only-of-type {\n",
       "        vertical-align: middle;\n",
       "    }\n",
       "\n",
       "    .dataframe tbody tr th {\n",
       "        vertical-align: top;\n",
       "    }\n",
       "\n",
       "    .dataframe thead th {\n",
       "        text-align: right;\n",
       "    }\n",
       "</style>\n",
       "<table border=\"1\" class=\"dataframe\">\n",
       "  <thead>\n",
       "    <tr style=\"text-align: right;\">\n",
       "      <th></th>\n",
       "      <th>Temperature</th>\n",
       "      <th>RH</th>\n",
       "      <th>Ws</th>\n",
       "      <th>Rain</th>\n",
       "      <th>FFMC</th>\n",
       "      <th>DMC</th>\n",
       "      <th>DC</th>\n",
       "      <th>ISI</th>\n",
       "      <th>BUI</th>\n",
       "      <th>FWI</th>\n",
       "      <th>Classes</th>\n",
       "      <th>Region</th>\n",
       "    </tr>\n",
       "  </thead>\n",
       "  <tbody>\n",
       "    <tr>\n",
       "      <th>Temperature</th>\n",
       "      <td>1.00</td>\n",
       "      <td>-0.65</td>\n",
       "      <td>-0.28</td>\n",
       "      <td>-0.33</td>\n",
       "      <td>0.68</td>\n",
       "      <td>0.48</td>\n",
       "      <td>0.37</td>\n",
       "      <td>0.61</td>\n",
       "      <td>0.46</td>\n",
       "      <td>0.56</td>\n",
       "      <td>0.52</td>\n",
       "      <td>0.27</td>\n",
       "    </tr>\n",
       "    <tr>\n",
       "      <th>RH</th>\n",
       "      <td>-0.65</td>\n",
       "      <td>1.00</td>\n",
       "      <td>0.24</td>\n",
       "      <td>0.22</td>\n",
       "      <td>-0.65</td>\n",
       "      <td>-0.41</td>\n",
       "      <td>-0.22</td>\n",
       "      <td>-0.69</td>\n",
       "      <td>-0.35</td>\n",
       "      <td>-0.57</td>\n",
       "      <td>-0.44</td>\n",
       "      <td>-0.41</td>\n",
       "    </tr>\n",
       "    <tr>\n",
       "      <th>Ws</th>\n",
       "      <td>-0.28</td>\n",
       "      <td>0.24</td>\n",
       "      <td>1.00</td>\n",
       "      <td>0.17</td>\n",
       "      <td>-0.16</td>\n",
       "      <td>-0.00</td>\n",
       "      <td>0.08</td>\n",
       "      <td>0.02</td>\n",
       "      <td>0.03</td>\n",
       "      <td>0.03</td>\n",
       "      <td>-0.07</td>\n",
       "      <td>-0.18</td>\n",
       "    </tr>\n",
       "    <tr>\n",
       "      <th>Rain</th>\n",
       "      <td>-0.33</td>\n",
       "      <td>0.22</td>\n",
       "      <td>0.17</td>\n",
       "      <td>1.00</td>\n",
       "      <td>-0.54</td>\n",
       "      <td>-0.29</td>\n",
       "      <td>-0.30</td>\n",
       "      <td>-0.35</td>\n",
       "      <td>-0.30</td>\n",
       "      <td>-0.32</td>\n",
       "      <td>-0.38</td>\n",
       "      <td>-0.04</td>\n",
       "    </tr>\n",
       "    <tr>\n",
       "      <th>FFMC</th>\n",
       "      <td>0.68</td>\n",
       "      <td>-0.65</td>\n",
       "      <td>-0.16</td>\n",
       "      <td>-0.54</td>\n",
       "      <td>1.00</td>\n",
       "      <td>0.60</td>\n",
       "      <td>0.50</td>\n",
       "      <td>0.74</td>\n",
       "      <td>0.59</td>\n",
       "      <td>0.69</td>\n",
       "      <td>0.77</td>\n",
       "      <td>0.22</td>\n",
       "    </tr>\n",
       "    <tr>\n",
       "      <th>DMC</th>\n",
       "      <td>0.48</td>\n",
       "      <td>-0.41</td>\n",
       "      <td>-0.00</td>\n",
       "      <td>-0.29</td>\n",
       "      <td>0.60</td>\n",
       "      <td>1.00</td>\n",
       "      <td>0.88</td>\n",
       "      <td>0.67</td>\n",
       "      <td>0.98</td>\n",
       "      <td>0.87</td>\n",
       "      <td>0.58</td>\n",
       "      <td>0.19</td>\n",
       "    </tr>\n",
       "    <tr>\n",
       "      <th>DC</th>\n",
       "      <td>0.37</td>\n",
       "      <td>-0.22</td>\n",
       "      <td>0.08</td>\n",
       "      <td>-0.30</td>\n",
       "      <td>0.50</td>\n",
       "      <td>0.88</td>\n",
       "      <td>1.00</td>\n",
       "      <td>0.50</td>\n",
       "      <td>0.94</td>\n",
       "      <td>0.74</td>\n",
       "      <td>0.51</td>\n",
       "      <td>-0.08</td>\n",
       "    </tr>\n",
       "    <tr>\n",
       "      <th>ISI</th>\n",
       "      <td>0.61</td>\n",
       "      <td>-0.69</td>\n",
       "      <td>0.02</td>\n",
       "      <td>-0.35</td>\n",
       "      <td>0.74</td>\n",
       "      <td>0.67</td>\n",
       "      <td>0.50</td>\n",
       "      <td>1.00</td>\n",
       "      <td>0.64</td>\n",
       "      <td>0.91</td>\n",
       "      <td>0.74</td>\n",
       "      <td>0.27</td>\n",
       "    </tr>\n",
       "    <tr>\n",
       "      <th>BUI</th>\n",
       "      <td>0.46</td>\n",
       "      <td>-0.35</td>\n",
       "      <td>0.03</td>\n",
       "      <td>-0.30</td>\n",
       "      <td>0.59</td>\n",
       "      <td>0.98</td>\n",
       "      <td>0.94</td>\n",
       "      <td>0.64</td>\n",
       "      <td>1.00</td>\n",
       "      <td>0.86</td>\n",
       "      <td>0.58</td>\n",
       "      <td>0.09</td>\n",
       "    </tr>\n",
       "    <tr>\n",
       "      <th>FWI</th>\n",
       "      <td>0.56</td>\n",
       "      <td>-0.57</td>\n",
       "      <td>0.03</td>\n",
       "      <td>-0.32</td>\n",
       "      <td>0.69</td>\n",
       "      <td>0.87</td>\n",
       "      <td>0.74</td>\n",
       "      <td>0.91</td>\n",
       "      <td>0.86</td>\n",
       "      <td>1.00</td>\n",
       "      <td>0.71</td>\n",
       "      <td>0.19</td>\n",
       "    </tr>\n",
       "    <tr>\n",
       "      <th>Classes</th>\n",
       "      <td>0.52</td>\n",
       "      <td>-0.44</td>\n",
       "      <td>-0.07</td>\n",
       "      <td>-0.38</td>\n",
       "      <td>0.77</td>\n",
       "      <td>0.58</td>\n",
       "      <td>0.51</td>\n",
       "      <td>0.74</td>\n",
       "      <td>0.58</td>\n",
       "      <td>0.71</td>\n",
       "      <td>1.00</td>\n",
       "      <td>0.17</td>\n",
       "    </tr>\n",
       "    <tr>\n",
       "      <th>Region</th>\n",
       "      <td>0.27</td>\n",
       "      <td>-0.41</td>\n",
       "      <td>-0.18</td>\n",
       "      <td>-0.04</td>\n",
       "      <td>0.22</td>\n",
       "      <td>0.19</td>\n",
       "      <td>-0.08</td>\n",
       "      <td>0.27</td>\n",
       "      <td>0.09</td>\n",
       "      <td>0.19</td>\n",
       "      <td>0.17</td>\n",
       "      <td>1.00</td>\n",
       "    </tr>\n",
       "  </tbody>\n",
       "</table>\n",
       "</div>"
      ],
      "text/plain": [
       "             Temperature    RH    Ws  Rain  FFMC   DMC    DC   ISI   BUI  \\\n",
       "Temperature         1.00 -0.65 -0.28 -0.33  0.68  0.48  0.37  0.61  0.46   \n",
       "RH                 -0.65  1.00  0.24  0.22 -0.65 -0.41 -0.22 -0.69 -0.35   \n",
       "Ws                 -0.28  0.24  1.00  0.17 -0.16 -0.00  0.08  0.02  0.03   \n",
       "Rain               -0.33  0.22  0.17  1.00 -0.54 -0.29 -0.30 -0.35 -0.30   \n",
       "FFMC                0.68 -0.65 -0.16 -0.54  1.00  0.60  0.50  0.74  0.59   \n",
       "DMC                 0.48 -0.41 -0.00 -0.29  0.60  1.00  0.88  0.67  0.98   \n",
       "DC                  0.37 -0.22  0.08 -0.30  0.50  0.88  1.00  0.50  0.94   \n",
       "ISI                 0.61 -0.69  0.02 -0.35  0.74  0.67  0.50  1.00  0.64   \n",
       "BUI                 0.46 -0.35  0.03 -0.30  0.59  0.98  0.94  0.64  1.00   \n",
       "FWI                 0.56 -0.57  0.03 -0.32  0.69  0.87  0.74  0.91  0.86   \n",
       "Classes             0.52 -0.44 -0.07 -0.38  0.77  0.58  0.51  0.74  0.58   \n",
       "Region              0.27 -0.41 -0.18 -0.04  0.22  0.19 -0.08  0.27  0.09   \n",
       "\n",
       "              FWI  Classes  Region  \n",
       "Temperature  0.56     0.52    0.27  \n",
       "RH          -0.57    -0.44   -0.41  \n",
       "Ws           0.03    -0.07   -0.18  \n",
       "Rain        -0.32    -0.38   -0.04  \n",
       "FFMC         0.69     0.77    0.22  \n",
       "DMC          0.87     0.58    0.19  \n",
       "DC           0.74     0.51   -0.08  \n",
       "ISI          0.91     0.74    0.27  \n",
       "BUI          0.86     0.58    0.09  \n",
       "FWI          1.00     0.71    0.19  \n",
       "Classes      0.71     1.00    0.17  \n",
       "Region       0.19     0.17    1.00  "
      ]
     },
     "execution_count": 46,
     "metadata": {},
     "output_type": "execute_result"
    }
   ],
   "source": [
    "data_corr = round(df[[feature for feature in num_feature if feature if feature not in ['day','month','year']]].corr(),2)\n",
    "data_corr"
   ]
  },
  {
   "cell_type": "markdown",
   "id": "7ac2f463",
   "metadata": {},
   "source": [
    "### 3.1 Heatmap for Correlation"
   ]
  },
  {
   "cell_type": "code",
   "execution_count": 54,
   "id": "021fe430",
   "metadata": {
    "scrolled": true
   },
   "outputs": [
    {
     "data": {
      "text/plain": [
       "<AxesSubplot: >"
      ]
     },
     "execution_count": 54,
     "metadata": {},
     "output_type": "execute_result"
    },
    {
     "data": {
      "image/png": "[encoded data removed]",
      "text/plain": [
       "<Figure size 1080x720 with 2 Axes>"
      ]
     },
     "metadata": {},
     "output_type": "display_data"
    }
   ],
   "source": [
    "sns.set(rc={'figure.figsize':(15,10)})\n",
    "sns.heatmap(data=data,annot=True,vmax=-1,vmin=1)"
   ]
  },
  {
   "cell_type": "markdown",
   "id": "f1e28f17",
   "metadata": {},
   "source": [
    "### Insights\n",
    "1. DMC-BUI , DC-BUI , ISI-FWI are Highly correlated(more tahn 0.9)\n",
    "2. FFMC-ISI, DC-DMC, FWI-DMC, FWI-DC, FWI-BUI are highly correlated"
   ]
  },
  {
   "cell_type": "markdown",
   "id": "577d2153",
   "metadata": {},
   "source": [
    "### 4.0 Feature vs Target"
   ]
  },
  {
   "cell_type": "markdown",
   "id": "7748275a",
   "metadata": {},
   "source": [
    "### 4.1 day"
   ]
  },
  {
   "cell_type": "code",
   "execution_count": 64,
   "id": "b0b80916",
   "metadata": {
    "scrolled": true
   },
   "outputs": [
    {
     "data": {
      "text/plain": [
       "<AxesSubplot: xlabel='day', ylabel='Temperature'>"
      ]
     },
     "execution_count": 64,
     "metadata": {},
     "output_type": "execute_result"
    },
    {
     "data": {
      "image/png": "[encoded data removed]",
      "text/plain": [
       "<Figure size 1080x720 with 1 Axes>"
      ]
     },
     "metadata": {},
     "output_type": "display_data"
    }
   ],
   "source": [
    "sns.scatterplot(data=df,x='day',y='Temperature',hue='Classes',s=100)"
   ]
  },
  {
   "cell_type": "markdown",
   "id": "c55f697f",
   "metadata": {},
   "source": [
    "### Insight\n",
    "1. Most Fire Cases are above 30 degree temperature"
   ]
  },
  {
   "cell_type": "markdown",
   "id": "e87ce8ac",
   "metadata": {},
   "source": [
    "### 4.2 month"
   ]
  },
  {
   "cell_type": "code",
   "execution_count": 66,
   "id": "7202c039",
   "metadata": {},
   "outputs": [
    {
     "data": {
      "text/plain": [
       "<AxesSubplot: xlabel='month', ylabel='Temperature'>"
      ]
     },
     "execution_count": 66,
     "metadata": {},
     "output_type": "execute_result"
    },
    {
     "data": {
      "image/png": "[encoded data removed]",
      "text/plain": [
       "<Figure size 1080x720 with 1 Axes>"
      ]
     },
     "metadata": {},
     "output_type": "display_data"
    }
   ],
   "source": [
    "sns.scatterplot(data=df,x='month',y='Temperature',hue='Classes',s=100)"
   ]
  },
  {
   "cell_type": "markdown",
   "id": "10a20be5",
   "metadata": {},
   "source": [
    "### Insight\n",
    "1. Most No of fire cases are in july and august\n",
    "2. JUne and September has less nor of fire cases"
   ]
  },
  {
   "cell_type": "markdown",
   "id": "43d207d0",
   "metadata": {},
   "source": [
    "### 4.3 region"
   ]
  },
  {
   "cell_type": "code",
   "execution_count": 67,
   "id": "44a0b8cc",
   "metadata": {},
   "outputs": [
    {
     "data": {
      "text/plain": [
       "<AxesSubplot: xlabel='Region', ylabel='Temperature'>"
      ]
     },
     "execution_count": 67,
     "metadata": {},
     "output_type": "execute_result"
    },
    {
     "data": {
      "image/png": "[encoded data removed]",
      "text/plain": [
       "<Figure size 1080x720 with 1 Axes>"
      ]
     },
     "metadata": {},
     "output_type": "display_data"
    }
   ],
   "source": [
    "sns.scatterplot(data=df,x='Region',y='Temperature',hue='Classes',s=100)"
   ]
  },
  {
   "cell_type": "markdown",
   "id": "feb6c917",
   "metadata": {},
   "source": [
    "### Insights\n",
    "1. Bejaia has less no of fire occurance cases than no fire occurance\n",
    "2. More no of fire occure=ance in Sidi Bel-abbes as compared to Bejaia"
   ]
  },
  {
   "cell_type": "markdown",
   "id": "ba6fbc30",
   "metadata": {},
   "source": [
    "# Final Report\n",
    "1. Very Highly Correlated features: DMC-BUI, DC-DMC, ISI-FWI\n",
    "2. Highly correlated features: FFMC-ISI, DC-DMC, FWI-DMC, FWI-DC, FWI-BUI\n",
    "3. Temperature Between 30-40 have most no of fire occurance\n",
    "4. WindSpeed betwwen 13-19 have more no of fire occurances\n",
    "5. Almost all cases of firer occurance have rainfall less tham 1mm\n",
    "6. for FFMC greater than 80, almost all cases of fire is reported\n",
    "7. DMC>30 and DC>100 have all cases of fire occurance i.e drought affected area are more prone to fire\n",
    "8. In Bejaia region, the no of cases of occurance of fire is less compared to no of cases of occurance of no fire.\n",
    "9. In Sidi Bel-abbes region the no of cases of occurance of fire is more compared to no fire.\n",
    "10. Also Overall no of cases of occurance of fire is more in Sidi Bel-abbes region as compared to Bejaia region.\n",
    "11. August and July have more no of fire occurance\n",
    "12. Relative Humidity, RH feature doesnt have outliers whereas Temperature, FFMC, wind speed, Rain, DMC,DC, ISI, BUI and FWI have outilers."
   ]
  },
  {
   "cell_type": "markdown",
   "id": "260dd286",
   "metadata": {},
   "source": [
    "### Note\n",
    "**Temperature is Dependent Feature**"
   ]
  },
  {
   "cell_type": "code",
   "execution_count": 68,
   "id": "e5b302ef",
   "metadata": {},
   "outputs": [],
   "source": [
    "##dropping year column\n",
    "df.drop('year',axis=1,inplace=True)"
   ]
  },
  {
   "cell_type": "markdown",
   "id": "70f6c4d7",
   "metadata": {},
   "source": [
    "# Model Building Prep"
   ]
  },
  {
   "cell_type": "markdown",
   "id": "d6a055b2",
   "metadata": {},
   "source": [
    "### 1.0 Segregate Independent and dependent features"
   ]
  },
  {
   "cell_type": "code",
   "execution_count": 70,
   "id": "5c82a68d",
   "metadata": {},
   "outputs": [],
   "source": [
    "X = df.drop('Temperature',axis=1)\n",
    "y = df.Temperature"
   ]
  },
  {
   "cell_type": "code",
   "execution_count": 72,
   "id": "8afc3fe3",
   "metadata": {
    "scrolled": true
   },
   "outputs": [
    {
     "data": {
      "text/html": [
       "<div>\n",
       "<style scoped>\n",
       "    .dataframe tbody tr th:only-of-type {\n",
       "        vertical-align: middle;\n",
       "    }\n",
       "\n",
       "    .dataframe tbody tr th {\n",
       "        vertical-align: top;\n",
       "    }\n",
       "\n",
       "    .dataframe thead th {\n",
       "        text-align: right;\n",
       "    }\n",
       "</style>\n",
       "<table border=\"1\" class=\"dataframe\">\n",
       "  <thead>\n",
       "    <tr style=\"text-align: right;\">\n",
       "      <th></th>\n",
       "      <th>day</th>\n",
       "      <th>month</th>\n",
       "      <th>RH</th>\n",
       "      <th>Ws</th>\n",
       "      <th>Rain</th>\n",
       "      <th>FFMC</th>\n",
       "      <th>DMC</th>\n",
       "      <th>DC</th>\n",
       "      <th>ISI</th>\n",
       "      <th>BUI</th>\n",
       "      <th>FWI</th>\n",
       "      <th>Classes</th>\n",
       "      <th>Region</th>\n",
       "    </tr>\n",
       "  </thead>\n",
       "  <tbody>\n",
       "    <tr>\n",
       "      <th>0</th>\n",
       "      <td>1</td>\n",
       "      <td>6</td>\n",
       "      <td>57</td>\n",
       "      <td>18</td>\n",
       "      <td>0.0</td>\n",
       "      <td>65.7</td>\n",
       "      <td>3.4</td>\n",
       "      <td>7.6</td>\n",
       "      <td>1.3</td>\n",
       "      <td>3.4</td>\n",
       "      <td>0.5</td>\n",
       "      <td>0</td>\n",
       "      <td>0.0</td>\n",
       "    </tr>\n",
       "    <tr>\n",
       "      <th>1</th>\n",
       "      <td>2</td>\n",
       "      <td>6</td>\n",
       "      <td>61</td>\n",
       "      <td>13</td>\n",
       "      <td>1.3</td>\n",
       "      <td>64.4</td>\n",
       "      <td>4.1</td>\n",
       "      <td>7.6</td>\n",
       "      <td>1.0</td>\n",
       "      <td>3.9</td>\n",
       "      <td>0.4</td>\n",
       "      <td>0</td>\n",
       "      <td>0.0</td>\n",
       "    </tr>\n",
       "    <tr>\n",
       "      <th>2</th>\n",
       "      <td>3</td>\n",
       "      <td>6</td>\n",
       "      <td>82</td>\n",
       "      <td>22</td>\n",
       "      <td>13.1</td>\n",
       "      <td>47.1</td>\n",
       "      <td>2.5</td>\n",
       "      <td>7.1</td>\n",
       "      <td>0.3</td>\n",
       "      <td>2.7</td>\n",
       "      <td>0.1</td>\n",
       "      <td>0</td>\n",
       "      <td>0.0</td>\n",
       "    </tr>\n",
       "    <tr>\n",
       "      <th>3</th>\n",
       "      <td>4</td>\n",
       "      <td>6</td>\n",
       "      <td>89</td>\n",
       "      <td>13</td>\n",
       "      <td>2.5</td>\n",
       "      <td>28.6</td>\n",
       "      <td>1.3</td>\n",
       "      <td>6.9</td>\n",
       "      <td>0.0</td>\n",
       "      <td>1.7</td>\n",
       "      <td>0.0</td>\n",
       "      <td>0</td>\n",
       "      <td>0.0</td>\n",
       "    </tr>\n",
       "    <tr>\n",
       "      <th>4</th>\n",
       "      <td>5</td>\n",
       "      <td>6</td>\n",
       "      <td>77</td>\n",
       "      <td>16</td>\n",
       "      <td>0.0</td>\n",
       "      <td>64.8</td>\n",
       "      <td>3.0</td>\n",
       "      <td>14.2</td>\n",
       "      <td>1.2</td>\n",
       "      <td>3.9</td>\n",
       "      <td>0.5</td>\n",
       "      <td>0</td>\n",
       "      <td>0.0</td>\n",
       "    </tr>\n",
       "  </tbody>\n",
       "</table>\n",
       "</div>"
      ],
      "text/plain": [
       "   day  month  RH  Ws  Rain  FFMC  DMC    DC  ISI  BUI  FWI  Classes  Region\n",
       "0    1      6  57  18   0.0  65.7  3.4   7.6  1.3  3.4  0.5        0     0.0\n",
       "1    2      6  61  13   1.3  64.4  4.1   7.6  1.0  3.9  0.4        0     0.0\n",
       "2    3      6  82  22  13.1  47.1  2.5   7.1  0.3  2.7  0.1        0     0.0\n",
       "3    4      6  89  13   2.5  28.6  1.3   6.9  0.0  1.7  0.0        0     0.0\n",
       "4    5      6  77  16   0.0  64.8  3.0  14.2  1.2  3.9  0.5        0     0.0"
      ]
     },
     "execution_count": 72,
     "metadata": {},
     "output_type": "execute_result"
    }
   ],
   "source": [
    "X.head()"
   ]
  },
  {
   "cell_type": "code",
   "execution_count": 73,
   "id": "fc66effd",
   "metadata": {
    "scrolled": true
   },
   "outputs": [
    {
     "data": {
      "text/plain": [
       "0    29.0\n",
       "1    29.0\n",
       "2    26.0\n",
       "3    25.0\n",
       "4    27.0\n",
       "Name: Temperature, dtype: float64"
      ]
     },
     "execution_count": 73,
     "metadata": {},
     "output_type": "execute_result"
    }
   ],
   "source": [
    "y.head()"
   ]
  },
  {
   "cell_type": "markdown",
   "id": "ebfb0f67",
   "metadata": {},
   "source": [
    "### 2.0 Splitting Data into Training and Testing"
   ]
  },
  {
   "cell_type": "code",
   "execution_count": 74,
   "id": "8a226610",
   "metadata": {},
   "outputs": [],
   "source": [
    "## importing train_test_split\n",
    "from sklearn.model_selection import train_test_split"
   ]
  },
  {
   "cell_type": "code",
   "execution_count": 75,
   "id": "e357193d",
   "metadata": {},
   "outputs": [],
   "source": [
    "X_train,X_test,y_train,y_test = train_test_split(X,y,test_size=0.3,random_state=42)\n"
   ]
  },
  {
   "cell_type": "code",
   "execution_count": 77,
   "id": "cf85fa19",
   "metadata": {},
   "outputs": [
    {
     "data": {
      "text/plain": [
       "((170, 13), (170,))"
      ]
     },
     "execution_count": 77,
     "metadata": {},
     "output_type": "execute_result"
    }
   ],
   "source": [
    "X_train.shape,y_train.shape"
   ]
  },
  {
   "cell_type": "code",
   "execution_count": 78,
   "id": "137cfa16",
   "metadata": {
    "scrolled": true
   },
   "outputs": [
    {
     "data": {
      "text/plain": [
       "((74, 13), (74,))"
      ]
     },
     "execution_count": 78,
     "metadata": {},
     "output_type": "execute_result"
    }
   ],
   "source": [
    "X_test.shape,y_test.shape"
   ]
  },
  {
   "cell_type": "markdown",
   "id": "9ad2b0e9",
   "metadata": {},
   "source": [
    "### 3.0 Feature Engineering"
   ]
  },
  {
   "cell_type": "markdown",
   "id": "b615b9fa",
   "metadata": {},
   "source": [
    "### 3.1 Standadization/Feature Scaling"
   ]
  },
  {
   "cell_type": "code",
   "execution_count": 79,
   "id": "cd8f5019",
   "metadata": {},
   "outputs": [],
   "source": [
    "from sklearn.preprocessing import StandardScaler"
   ]
  },
  {
   "cell_type": "code",
   "execution_count": 80,
   "id": "15bf3dab",
   "metadata": {},
   "outputs": [
    {
     "data": {
      "text/plain": [
       "StandardScaler()"
      ]
     },
     "execution_count": 80,
     "metadata": {},
     "output_type": "execute_result"
    }
   ],
   "source": [
    "## creating StandarScaler object\n",
    "scaler = StandardScaler()\n",
    "scaler"
   ]
  },
  {
   "cell_type": "code",
   "execution_count": 81,
   "id": "270562de",
   "metadata": {},
   "outputs": [],
   "source": [
    "##using fit_transform to standardize the train data\n",
    "X_train = scaler.fit_transform(X_train)"
   ]
  },
  {
   "cell_type": "code",
   "execution_count": 82,
   "id": "bb43b1ce",
   "metadata": {},
   "outputs": [],
   "source": [
    "##using transform to scale Test Data to Avoid Data Leakge\n",
    "X_test = scaler.transform(X_test)"
   ]
  },
  {
   "cell_type": "markdown",
   "id": "a336a037",
   "metadata": {},
   "source": [
    "### 4.0 Model Building"
   ]
  },
  {
   "cell_type": "code",
   "execution_count": 83,
   "id": "b5925494",
   "metadata": {},
   "outputs": [],
   "source": [
    "from sklearn.linear_model import LinearRegression"
   ]
  },
  {
   "cell_type": "code",
   "execution_count": 90,
   "id": "21dd513d",
   "metadata": {},
   "outputs": [
    {
     "data": {
      "text/plain": [
       "LinearRegression()"
      ]
     },
     "execution_count": 90,
     "metadata": {},
     "output_type": "execute_result"
    }
   ],
   "source": [
    "##creating object\n",
    "linear_reg = LinearRegression()\n",
    "linear_reg"
   ]
  },
  {
   "cell_type": "code",
   "execution_count": 93,
   "id": "84fc81b3",
   "metadata": {},
   "outputs": [
    {
     "data": {
      "text/plain": [
       "LinearRegression()"
      ]
     },
     "execution_count": 93,
     "metadata": {},
     "output_type": "execute_result"
    }
   ],
   "source": [
    "## Training the model\n",
    "linear_reg.fit(X_train,y_train)"
   ]
  },
  {
   "cell_type": "code",
   "execution_count": 105,
   "id": "acd4ab48",
   "metadata": {},
   "outputs": [
    {
     "name": "stdout",
     "output_type": "stream",
     "text": [
      "-->  Coefficients are [-0.53264237 -0.33372526 -1.05213627 -0.53470137  0.21456043  1.77990018\n",
      "  1.08511057  1.08568968  0.06642057 -1.44198335  0.18729903 -0.22675505\n",
      "  0.02109841]\n",
      "--> Intercept is 32.01764705882353\n"
     ]
    }
   ],
   "source": [
    "##Coefficients and Intercept\n",
    "print('-->  Coefficients are {}'.format(linear_reg.coef_ ))\n",
    "print('--> Intercept is {}'.format(linear_reg.intercept_))"
   ]
  },
  {
   "cell_type": "markdown",
   "id": "dba49470",
   "metadata": {},
   "source": [
    "### 1.1 Prediction of test data"
   ]
  },
  {
   "cell_type": "code",
   "execution_count": 106,
   "id": "83ceac1f",
   "metadata": {
    "scrolled": true
   },
   "outputs": [
    {
     "data": {
      "text/plain": [
       "array([32.92541245, 34.91621879, 34.54722674, 32.88415953, 36.61931871,\n",
       "       32.00968838, 35.2518241 , 28.3100746 , 31.66804038, 29.24396327,\n",
       "       29.0556292 , 32.93865636, 32.59260231, 32.7233547 , 34.35112314,\n",
       "       31.79087048, 37.11120719, 25.36229366, 32.55397457, 33.3804981 ,\n",
       "       31.32475228, 28.35541532, 34.29879053, 29.25066655, 36.88720728,\n",
       "       25.25143512, 33.41834142, 33.48469414, 33.28379627, 35.30690946,\n",
       "       33.82877329, 31.67715751, 32.50229939, 33.19316917, 32.52162263,\n",
       "       31.71813412, 30.16818454, 34.18882961, 32.28739643, 21.92893473,\n",
       "       33.78169947, 34.65980108, 31.35419947, 24.84471045, 36.17533712,\n",
       "       32.69367885, 31.09594385, 30.66491338, 35.22902692, 34.20981086,\n",
       "       37.20465992, 30.79568801, 30.80821158, 34.64334014, 33.5604962 ,\n",
       "       32.33005684, 36.89964382, 30.66404786, 30.81717881, 36.16028506,\n",
       "       33.7515358 , 28.61218897, 33.30477946, 31.57902301, 31.92138375,\n",
       "       24.21537795, 33.32378129, 29.70890224, 36.9513345 , 34.43049421,\n",
       "       33.41941823, 31.16147268, 33.39085404, 34.61303988])"
      ]
     },
     "execution_count": 106,
     "metadata": {},
     "output_type": "execute_result"
    }
   ],
   "source": [
    "linear_pred = linear_reg.predict(X_test)\n",
    "linear_pred"
   ]
  },
  {
   "cell_type": "markdown",
   "id": "ce3d559a",
   "metadata": {},
   "source": [
    "### 1.2 Validating Model of Linear Regression"
   ]
  },
  {
   "cell_type": "markdown",
   "id": "81b691b6",
   "metadata": {},
   "source": [
    "### 1.2.1 Linear Relationship between Test Truth and Predicted\n",
    "**A good model follow linear relationship**"
   ]
  },
  {
   "cell_type": "code",
   "execution_count": 107,
   "id": "1a923b3f",
   "metadata": {
    "scrolled": true
   },
   "outputs": [
    {
     "data": {
      "text/plain": [
       "Text(0, 0.5, 'Predicted')"
      ]
     },
     "execution_count": 107,
     "metadata": {},
     "output_type": "execute_result"
    },
    {
     "data": {
      "image/png": "[encoded data removed]",
      "text/plain": [
       "<Figure size 1080x720 with 1 Axes>"
      ]
     },
     "metadata": {},
     "output_type": "display_data"
    }
   ],
   "source": [
    "plt.scatter(x=y_test,y=linear_pred)\n",
    "plt.xlabel('Test Truth ')\n",
    "plt.ylabel('Predicted')"
   ]
  },
  {
   "cell_type": "markdown",
   "id": "0b6aad4e",
   "metadata": {},
   "source": [
    "### 1.2.2 Residuals\n",
    "**Residuals Should Follor Normal Dist.**"
   ]
  },
  {
   "cell_type": "code",
   "execution_count": 108,
   "id": "95112099",
   "metadata": {
    "scrolled": true
   },
   "outputs": [
    {
     "data": {
      "text/plain": [
       "24    -1.925412\n",
       "6     -1.916219\n",
       "153   -1.547227\n",
       "211    2.115840\n",
       "198    3.380681\n",
       "         ...   \n",
       "165    2.569506\n",
       "154    0.580582\n",
       "216   -3.161473\n",
       "79     1.609146\n",
       "29    -1.613040\n",
       "Name: Temperature, Length: 74, dtype: float64"
      ]
     },
     "execution_count": 108,
     "metadata": {},
     "output_type": "execute_result"
    }
   ],
   "source": [
    "residuals_linear = y_test - linear_pred\n",
    "residuals_linear"
   ]
  },
  {
   "cell_type": "code",
   "execution_count": 109,
   "id": "3d418516",
   "metadata": {
    "scrolled": true
   },
   "outputs": [
    {
     "data": {
      "text/plain": [
       "<seaborn.axisgrid.FacetGrid at 0x23464700190>"
      ]
     },
     "execution_count": 109,
     "metadata": {},
     "output_type": "execute_result"
    },
    {
     "data": {
      "image/png": "[encoded data removed]",
      "text/plain": [
       "<Figure size 360x360 with 1 Axes>"
      ]
     },
     "metadata": {},
     "output_type": "display_data"
    }
   ],
   "source": [
    "sns.displot(x=residuals_linear,kind='kde')"
   ]
  },
  {
   "cell_type": "markdown",
   "id": "4a0edaab",
   "metadata": {},
   "source": [
    "### 1.2.3 Uniform Distribution\n",
    "**If Residuals vs Predictions follow uniform distribution, it indicates we have a good model.**"
   ]
  },
  {
   "cell_type": "markdown",
   "id": "32756672",
   "metadata": {},
   "source": [
    "### 1.2.2 Residuals\n",
    "**Residuals Should Follor Normal Dist.**"
   ]
  },
  {
   "cell_type": "code",
   "execution_count": 110,
   "id": "f758e14b",
   "metadata": {
    "scrolled": true
   },
   "outputs": [
    {
     "data": {
      "text/plain": [
       "Text(0, 0.5, 'Residuals')"
      ]
     },
     "execution_count": 110,
     "metadata": {},
     "output_type": "execute_result"
    },
    {
     "data": {
      "image/png": "[encoded data removed]",
      "text/plain": [
       "<Figure size 1080x720 with 1 Axes>"
      ]
     },
     "metadata": {},
     "output_type": "display_data"
    }
   ],
   "source": [
    "plt.scatter(x=linear_pred,y=residuals_linear)\n",
    "plt.xlabel('Precitions')\n",
    "plt.ylabel('Residuals')"
   ]
  },
  {
   "cell_type": "markdown",
   "id": "d434d804",
   "metadata": {},
   "source": [
    "### 1.3 Performace Matrix"
   ]
  },
  {
   "cell_type": "markdown",
   "id": "b86a3cc5",
   "metadata": {},
   "source": [
    "### MSE ,MAE and RMSE"
   ]
  },
  {
   "cell_type": "code",
   "execution_count": 114,
   "id": "acf8ed75",
   "metadata": {},
   "outputs": [
    {
     "name": "stdout",
     "output_type": "stream",
     "text": [
      "Mean Squared Error is : 5.2\n",
      "Mean Absolute Error is : 1.79\n",
      "Root mean Squared Error is : 2.28\n"
     ]
    }
   ],
   "source": [
    "from sklearn.metrics import mean_squared_error\n",
    "from sklearn.metrics import mean_absolute_error\n",
    "\n",
    "print('Mean Squared Error is :',round(mean_squared_error(y_test,linear_pred),2))\n",
    "print('Mean Absolute Error is :',round(mean_absolute_error(y_test,linear_pred),2))\n",
    "print('Root mean Squared Error is :',round(np.sqrt(mean_squared_error(y_test,linear_pred)),2))"
   ]
  },
  {
   "cell_type": "markdown",
   "id": "b45ec2d4",
   "metadata": {},
   "source": [
    "### 1.3.2  R Squared and Adjusted R Square"
   ]
  },
  {
   "cell_type": "code",
   "execution_count": 135,
   "id": "bb414278",
   "metadata": {},
   "outputs": [
    {
     "name": "stdout",
     "output_type": "stream",
     "text": [
      "Linear Regreesion Model has Accuracy 52.39 %\n",
      "Adjusted R square accuracy is 42.08 %\n"
     ]
    }
   ],
   "source": [
    "from sklearn.metrics import r2_score\n",
    "\n",
    "linear_score_r2 = r2_score(y_test,linear_pred)\n",
    "print(\"Linear Regreesion Model has Accuracy {} %\".format(round(linear_score_r2*100,2)))\n",
    "\n",
    "linear_adj_r2_score=1-((1-linear_score_r2)*(len(y_test)-1)/(len(y_test)-X_test.shape[1]-1))\n",
    "print(\"Adjusted R square accuracy is {} %\".format(round(linear_adj_r2_score*100,2)))"
   ]
  },
  {
   "cell_type": "markdown",
   "id": "b9dae380",
   "metadata": {},
   "source": [
    "### 2.0 Ridge Regression"
   ]
  },
  {
   "cell_type": "code",
   "execution_count": 121,
   "id": "93ecfa50",
   "metadata": {},
   "outputs": [],
   "source": [
    "from sklearn.linear_model import Ridge"
   ]
  },
  {
   "cell_type": "code",
   "execution_count": 123,
   "id": "c877b1c4",
   "metadata": {},
   "outputs": [
    {
     "data": {
      "text/plain": [
       "Ridge()"
      ]
     },
     "execution_count": 123,
     "metadata": {},
     "output_type": "execute_result"
    }
   ],
   "source": [
    "## cerating ridge object\n",
    "ridge_reg = Ridge()\n",
    "ridge_reg"
   ]
  },
  {
   "cell_type": "code",
   "execution_count": 124,
   "id": "e375d10d",
   "metadata": {},
   "outputs": [
    {
     "data": {
      "text/plain": [
       "Ridge()"
      ]
     },
     "execution_count": 124,
     "metadata": {},
     "output_type": "execute_result"
    }
   ],
   "source": [
    "ridge_reg.fit(X_train,y_train)"
   ]
  },
  {
   "cell_type": "code",
   "execution_count": 125,
   "id": "35c9a7df",
   "metadata": {
    "scrolled": true
   },
   "outputs": [
    {
     "name": "stdout",
     "output_type": "stream",
     "text": [
      "-->  Coefficients are [-0.52210728 -0.32549839 -1.0620928  -0.53364295  0.19430475  1.72305984\n",
      "  0.51361558  0.77873524  0.13418421 -0.52693297  0.07888015 -0.21889891\n",
      "  0.03371261]\n",
      "--> Intercept is 32.01764705882353\n"
     ]
    }
   ],
   "source": [
    "## Printing Coefficients and Intercept\n",
    "print('-->  Coefficients are {}'.format(ridge_reg.coef_ ))\n",
    "print('--> Intercept is {}'.format(ridge_reg.intercept_))"
   ]
  },
  {
   "cell_type": "markdown",
   "id": "c592e43f",
   "metadata": {},
   "source": [
    "### 2.1 Prediction of Data"
   ]
  },
  {
   "cell_type": "code",
   "execution_count": 126,
   "id": "46fb30b5",
   "metadata": {
    "scrolled": true
   },
   "outputs": [
    {
     "data": {
      "text/plain": [
       "array([32.91872431, 34.85300661, 34.51087967, 32.88693238, 36.58370627,\n",
       "       32.07302788, 35.22534587, 28.34512766, 31.67138831, 29.24776179,\n",
       "       29.05085787, 33.02659168, 32.56854361, 32.76033459, 34.38809605,\n",
       "       31.77704338, 37.00893986, 25.43648511, 32.49791679, 33.35555218,\n",
       "       31.27514754, 28.34412681, 34.28135817, 29.24855023, 36.88791226,\n",
       "       25.31471728, 33.39491825, 33.48898839, 33.28331513, 35.23077168,\n",
       "       33.82537013, 31.66539228, 32.47618068, 33.24110921, 32.49351608,\n",
       "       31.74908957, 30.11034088, 34.2183834 , 32.22869687, 22.03150062,\n",
       "       33.78645111, 34.63682418, 31.38210885, 24.90552769, 36.10165537,\n",
       "       32.64706588, 31.08903819, 30.68193966, 35.20213884, 34.20899111,\n",
       "       37.13392907, 30.76036609, 30.83263488, 34.70377625, 33.53394531,\n",
       "       32.47332164, 36.88686435, 30.69619571, 30.81487322, 36.15761681,\n",
       "       33.69814311, 28.63260011, 33.25627072, 31.57156603, 31.93243965,\n",
       "       24.25363043, 33.30152327, 29.70595969, 36.91459841, 34.5473537 ,\n",
       "       33.39017484, 31.14943031, 33.37479345, 34.62688626])"
      ]
     },
     "execution_count": 126,
     "metadata": {},
     "output_type": "execute_result"
    }
   ],
   "source": [
    "ridge_pred = ridge_reg.predict(X_test)\n",
    "ridge_pred"
   ]
  },
  {
   "cell_type": "markdown",
   "id": "7f513e16",
   "metadata": {},
   "source": [
    "### 2.2 Validating Ridge Model"
   ]
  },
  {
   "cell_type": "markdown",
   "id": "54cfcab9",
   "metadata": {},
   "source": [
    "### 2.2.1 Linear Relationship between Test Truth and Predicted\n",
    "**A good model follow linear relationship**"
   ]
  },
  {
   "cell_type": "code",
   "execution_count": 162,
   "id": "b9dfaf8f",
   "metadata": {
    "scrolled": true
   },
   "outputs": [
    {
     "data": {
      "text/plain": [
       "Text(0, 0.5, 'Predicted')"
      ]
     },
     "execution_count": 162,
     "metadata": {},
     "output_type": "execute_result"
    },
    {
     "data": {
      "image/png": "[encoded data removed]",
      "text/plain": [
       "<Figure size 1080x720 with 1 Axes>"
      ]
     },
     "metadata": {},
     "output_type": "display_data"
    }
   ],
   "source": [
    "plt.scatter(x=y_test,y=ridge_pred)\n",
    "plt.xlabel(\"Test truth\")\n",
    "plt.ylabel(\"Predicted\")"
   ]
  },
  {
   "cell_type": "markdown",
   "id": "74c701ba",
   "metadata": {},
   "source": [
    "### 2.2.2 Residuals\n",
    "**Residuals Should Follor Normal Dist.**"
   ]
  },
  {
   "cell_type": "code",
   "execution_count": 130,
   "id": "7d7e1677",
   "metadata": {},
   "outputs": [
    {
     "data": {
      "text/plain": [
       "24    -1.918724\n",
       "6     -1.853007\n",
       "153   -1.510880\n",
       "211    2.113068\n",
       "198    3.416294\n",
       "Name: Temperature, dtype: float64"
      ]
     },
     "execution_count": 130,
     "metadata": {},
     "output_type": "execute_result"
    }
   ],
   "source": [
    "residual_ridge=y_test-ridge_pred\n",
    "residual_ridge.head()"
   ]
  },
  {
   "cell_type": "code",
   "execution_count": 131,
   "id": "0885b2f1",
   "metadata": {
    "scrolled": true
   },
   "outputs": [
    {
     "data": {
      "text/plain": [
       "<seaborn.axisgrid.FacetGrid at 0x23464c26ee0>"
      ]
     },
     "execution_count": 131,
     "metadata": {},
     "output_type": "execute_result"
    },
    {
     "data": {
      "image/png": "[encoded data removed]",
      "text/plain": [
       "<Figure size 360x360 with 1 Axes>"
      ]
     },
     "metadata": {},
     "output_type": "display_data"
    }
   ],
   "source": [
    "sns.displot(x=residuals_linear,kind='kde')"
   ]
  },
  {
   "cell_type": "markdown",
   "id": "cdfc3897",
   "metadata": {},
   "source": [
    "### 2.2.3 Uniform Distribution\n",
    "**If Residuals vs Predictions follow uniform distribution, it indicates we have a good model.**"
   ]
  },
  {
   "cell_type": "code",
   "execution_count": 132,
   "id": "e4bdafcc",
   "metadata": {
    "scrolled": true
   },
   "outputs": [
    {
     "data": {
      "text/plain": [
       "Text(0, 0.5, 'Residuals')"
      ]
     },
     "execution_count": 132,
     "metadata": {},
     "output_type": "execute_result"
    },
    {
     "data": {
      "image/png": "[encoded data removed]",
      "text/plain": [
       "<Figure size 1080x720 with 1 Axes>"
      ]
     },
     "metadata": {},
     "output_type": "display_data"
    }
   ],
   "source": [
    "plt.scatter(x=ridge_pred, y=residual_ridge)\n",
    "plt.xlabel('Predictions')\n",
    "plt.ylabel('Residuals')"
   ]
  },
  {
   "cell_type": "markdown",
   "id": "75b0bd78",
   "metadata": {},
   "source": [
    "### 2.3 Performace Matrix"
   ]
  },
  {
   "cell_type": "markdown",
   "id": "190465e9",
   "metadata": {},
   "source": [
    "### MSE ,MAE and RMSE"
   ]
  },
  {
   "cell_type": "code",
   "execution_count": 190,
   "id": "e003240d",
   "metadata": {
    "scrolled": true
   },
   "outputs": [
    {
     "name": "stdout",
     "output_type": "stream",
     "text": [
      "Mean squared error is 5.14\n",
      "Mean absolute error is 1.78\n",
      "Root Mean squared error is 2.27\n"
     ]
    }
   ],
   "source": [
    "print(\"Mean squared error is {}\".format(round(mean_squared_error(y_test, ridge_pred),2)))\n",
    "print(\"Mean absolute error is {}\".format(round(mean_absolute_error(y_test, ridge_pred),2)))\n",
    "print(\"Root Mean squared error is {}\".format(round(np.sqrt(mean_squared_error(y_test, ridge_pred)),2)))"
   ]
  },
  {
   "cell_type": "markdown",
   "id": "c27a66aa",
   "metadata": {},
   "source": [
    "### 2.3.1 R Squared and Adjusted R Square"
   ]
  },
  {
   "cell_type": "code",
   "execution_count": 189,
   "id": "ed8db19a",
   "metadata": {},
   "outputs": [
    {
     "name": "stdout",
     "output_type": "stream",
     "text": [
      "Our Ridge regression model has 52.959 % accuracy\n",
      "Adjusted R square accuracy is 42.77 %\n"
     ]
    }
   ],
   "source": [
    "ridge_score_r2=r2_score(y_test, ridge_pred)\n",
    "print(\"Our Ridge regression model has {} % accuracy\".format(round(ridge_score_r2*100,3)))\n",
    "\n",
    "ridge_adj_r2_score=1-((1-ridge_score_r2)*(len(y_test)-1)/(len(y_test)-X_test.shape[1]-1))\n",
    "print(\"Adjusted R square accuracy is {} %\".format(round(ridge_adj_r2_score*100,2)))"
   ]
  },
  {
   "cell_type": "markdown",
   "id": "1cf474a5",
   "metadata": {},
   "source": [
    "### 3.0 Lasso Regression"
   ]
  },
  {
   "cell_type": "code",
   "execution_count": 141,
   "id": "66d7fbfb",
   "metadata": {},
   "outputs": [],
   "source": [
    "from sklearn.linear_model import Lasso"
   ]
  },
  {
   "cell_type": "code",
   "execution_count": 142,
   "id": "5718866a",
   "metadata": {},
   "outputs": [
    {
     "data": {
      "text/plain": [
       "Lasso()"
      ]
     },
     "execution_count": 142,
     "metadata": {},
     "output_type": "execute_result"
    }
   ],
   "source": [
    "## creating Lasso regression model\n",
    "lasso_reg=Lasso()\n",
    "lasso_reg"
   ]
  },
  {
   "cell_type": "code",
   "execution_count": 143,
   "id": "ed2ee97f",
   "metadata": {
    "scrolled": true
   },
   "outputs": [
    {
     "data": {
      "text/plain": [
       "Lasso()"
      ]
     },
     "execution_count": 143,
     "metadata": {},
     "output_type": "execute_result"
    }
   ],
   "source": [
    "### training model\n",
    "lasso_reg.fit(X_train, y_train)"
   ]
  },
  {
   "cell_type": "code",
   "execution_count": 146,
   "id": "348935e1",
   "metadata": {
    "scrolled": true
   },
   "outputs": [
    {
     "name": "stdout",
     "output_type": "stream",
     "text": [
      "-->Co-efficients of independent features is [ 0.         -0.         -0.67315029 -0.         -0.          1.19451067\n",
      "  0.          0.          0.          0.          0.          0.\n",
      "  0.        ]\n",
      "--> Intercept  is 32.01764705882353\n"
     ]
    }
   ],
   "source": [
    "### Printing co-efficients and intercept of best fit hyperplane\n",
    "print(\"-->Co-efficients of independent features is {}\".format(lasso_reg.coef_))\n",
    "print(\"--> Intercept  is {}\".format(lasso_reg.intercept_))"
   ]
  },
  {
   "cell_type": "markdown",
   "id": "1d5b6d57",
   "metadata": {},
   "source": [
    "### 3.1 Using model to get predictions of test data"
   ]
  },
  {
   "cell_type": "code",
   "execution_count": 147,
   "id": "23cb304f",
   "metadata": {
    "scrolled": true
   },
   "outputs": [
    {
     "data": {
      "text/plain": [
       "array([32.74072579, 33.32187087, 33.54693021, 32.7082748 , 34.22983366,\n",
       "       31.67752745, 34.09880725, 28.87679592, 30.94180031, 30.12014501,\n",
       "       31.02960443, 32.42182319, 32.81087632, 32.32292102, 33.35029576,\n",
       "       32.40852243, 34.60240311, 27.42655749, 32.21273113, 33.11128218,\n",
       "       31.55623953, 29.791641  , 33.64953173, 30.34890369, 34.65269734,\n",
       "       28.7696519 , 32.5136534 , 32.81120307, 33.03223631, 33.923199  ,\n",
       "       33.24315174, 31.31741561, 32.74896763, 32.78193502, 32.59204579,\n",
       "       32.76025534, 31.38484703, 33.33348532, 31.08495758, 28.32576203,\n",
       "       32.79809198, 32.95098773, 32.64772568, 27.52545966, 34.26734355,\n",
       "       32.4954834 , 31.78986745, 30.90110748, 34.24514746, 33.50033532,\n",
       "       34.42932431, 31.75118767, 31.69012213, 32.92204643, 33.45004108,\n",
       "       32.02602484, 34.93544961, 32.62131383, 31.11961127, 34.48046169,\n",
       "       33.12238023, 31.1784741 , 33.28806033, 32.1686657 , 32.13251537,\n",
       "       27.95942139, 33.0271774 , 31.58667746, 34.37533072, 34.15734334,\n",
       "       32.94190273, 31.86657354, 33.05475914, 33.54608706])"
      ]
     },
     "execution_count": 147,
     "metadata": {},
     "output_type": "execute_result"
    }
   ],
   "source": [
    "lasso_pred=lasso_reg.predict(X_test)\n",
    "lasso_pred"
   ]
  },
  {
   "cell_type": "markdown",
   "id": "00802108",
   "metadata": {},
   "source": [
    "### 3.2 Validating model using assumptions of Lasso regression\n"
   ]
  },
  {
   "cell_type": "markdown",
   "id": "f8447121",
   "metadata": {},
   "source": [
    "### 3.2.1 Linear Relationship between Test Truth and Predicted\n",
    "**A good model follow linear relationship**"
   ]
  },
  {
   "cell_type": "code",
   "execution_count": 148,
   "id": "e8f3d6d6",
   "metadata": {},
   "outputs": [
    {
     "data": {
      "text/plain": [
       "Text(0, 0.5, 'Predicted')"
      ]
     },
     "execution_count": 148,
     "metadata": {},
     "output_type": "execute_result"
    },
    {
     "data": {
      "image/png": "[encoded data removed]",
      "text/plain": [
       "<Figure size 1080x720 with 1 Axes>"
      ]
     },
     "metadata": {},
     "output_type": "display_data"
    }
   ],
   "source": [
    "plt.scatter(x=y_test,y=lasso_pred)\n",
    "plt.xlabel(\"Test truth\")\n",
    "plt.ylabel(\"Predicted\")"
   ]
  },
  {
   "cell_type": "markdown",
   "id": "4358d692",
   "metadata": {},
   "source": [
    "### 3.2.2 Residuals\n",
    "**Residuals Should Follor Normal Dist.**"
   ]
  },
  {
   "cell_type": "code",
   "execution_count": 149,
   "id": "7490a39a",
   "metadata": {
    "scrolled": true
   },
   "outputs": [
    {
     "data": {
      "text/plain": [
       "24    -1.740726\n",
       "6     -0.321871\n",
       "153   -0.546930\n",
       "211    2.291725\n",
       "198    5.770166\n",
       "Name: Temperature, dtype: float64"
      ]
     },
     "execution_count": 149,
     "metadata": {},
     "output_type": "execute_result"
    }
   ],
   "source": [
    "residual_lasso=y_test-lasso_pred\n",
    "residual_lasso.head()"
   ]
  },
  {
   "cell_type": "code",
   "execution_count": 151,
   "id": "2da0b15d",
   "metadata": {
    "scrolled": false
   },
   "outputs": [
    {
     "data": {
      "text/plain": [
       "<seaborn.axisgrid.FacetGrid at 0x23464868d90>"
      ]
     },
     "execution_count": 151,
     "metadata": {},
     "output_type": "execute_result"
    },
    {
     "data": {
      "image/png": "[encoded data removed]",
      "text/plain": [
       "<Figure size 360x360 with 1 Axes>"
      ]
     },
     "metadata": {},
     "output_type": "display_data"
    }
   ],
   "source": [
    "sns.displot(x=residual_lasso, kind='kde')"
   ]
  },
  {
   "cell_type": "markdown",
   "id": "8b29eeca",
   "metadata": {},
   "source": [
    "### 3.3 Performace Matrix"
   ]
  },
  {
   "cell_type": "markdown",
   "id": "26d9fb53",
   "metadata": {},
   "source": [
    "### MSE ,MAE and RMSE"
   ]
  },
  {
   "cell_type": "code",
   "execution_count": 152,
   "id": "05539e5c",
   "metadata": {
    "scrolled": true
   },
   "outputs": [
    {
     "name": "stdout",
     "output_type": "stream",
     "text": [
      "Mean squared error is 6.16\n",
      "Mean absolute error is 2.0\n",
      "Root Mean squared error is 2.48\n"
     ]
    }
   ],
   "source": [
    "print(\"Mean squared error is {}\".format(round(mean_squared_error(y_test, lasso_pred),2)))\n",
    "print(\"Mean absolute error is {}\".format(round(mean_absolute_error(y_test, lasso_pred),2)))\n",
    "print(\"Root Mean squared error is {}\".format(round(np.sqrt(mean_squared_error(y_test, lasso_pred)),2)))"
   ]
  },
  {
   "cell_type": "markdown",
   "id": "4781b2a0",
   "metadata": {},
   "source": [
    "### 3.3.1  R Squared and Adjusted R Square"
   ]
  },
  {
   "cell_type": "code",
   "execution_count": 153,
   "id": "7daf4d06",
   "metadata": {
    "scrolled": true
   },
   "outputs": [
    {
     "name": "stdout",
     "output_type": "stream",
     "text": [
      "Our Lasso regression model has 43.623 % accuracy\n",
      "Adjusted R square accuracy is 31.41 %\n"
     ]
    }
   ],
   "source": [
    "lasso_score_r2=r2_score(y_test, lasso_pred)\n",
    "print(\"Our Lasso regression model has {} % accuracy\".format(round(lasso_score_r2*100,3)))\n",
    "\n",
    "lasso_adj_r2_score=1-((1-lasso_score_r2)*(len(y_test)-1)/(len(y_test)-X_test.shape[1]-1))\n",
    "print(\"Adjusted R square accuracy is {} %\".format(round(lasso_adj_r2_score*100,2)))"
   ]
  },
  {
   "cell_type": "markdown",
   "id": "dbdc4568",
   "metadata": {},
   "source": [
    "### 4.0 Elastic-Net Regression"
   ]
  },
  {
   "cell_type": "code",
   "execution_count": 154,
   "id": "f570f84f",
   "metadata": {},
   "outputs": [],
   "source": [
    "from sklearn.linear_model import ElasticNet"
   ]
  },
  {
   "cell_type": "code",
   "execution_count": 155,
   "id": "6fa7c624",
   "metadata": {},
   "outputs": [
    {
     "data": {
      "text/plain": [
       "ElasticNet()"
      ]
     },
     "execution_count": 155,
     "metadata": {},
     "output_type": "execute_result"
    }
   ],
   "source": [
    "## creating Elastic-Net regression model\n",
    "elastic_reg=ElasticNet()\n",
    "elastic_reg"
   ]
  },
  {
   "cell_type": "code",
   "execution_count": 156,
   "id": "a99674f4",
   "metadata": {},
   "outputs": [
    {
     "data": {
      "text/plain": [
       "ElasticNet()"
      ]
     },
     "execution_count": 156,
     "metadata": {},
     "output_type": "execute_result"
    }
   ],
   "source": [
    "### Model fitting\n",
    "elastic_reg.fit(X_train, y_train)"
   ]
  },
  {
   "cell_type": "code",
   "execution_count": 158,
   "id": "2009f28c",
   "metadata": {
    "scrolled": true
   },
   "outputs": [
    {
     "name": "stdout",
     "output_type": "stream",
     "text": [
      "--> Co-efficients of independent features is [-0.         -0.         -0.70162206 -0.09646192 -0.00130962  0.8238009\n",
      "  0.11150677  0.          0.23351098  0.03284724  0.16225491  0.06435505\n",
      "  0.        ]\n",
      "--> Intercept of best fit hyper plane is 32.01764705882353\n"
     ]
    }
   ],
   "source": [
    "### Printing co-efficients and intercept of best fit hyperplane\n",
    "print(\"--> Co-efficients of independent features is {}\".format(elastic_reg.coef_))\n",
    "print(\"--> Intercept of best fit hyper plane is {}\".format(elastic_reg.intercept_))"
   ]
  },
  {
   "cell_type": "markdown",
   "id": "e93689a8",
   "metadata": {},
   "source": [
    "### 4.1 Using model to get predictions of test data"
   ]
  },
  {
   "cell_type": "code",
   "execution_count": 161,
   "id": "2a483685",
   "metadata": {
    "scrolled": true
   },
   "outputs": [
    {
     "data": {
      "text/plain": [
       "array([32.66851543, 33.26109672, 33.38324755, 32.61286694, 34.69239216,\n",
       "       31.55840655, 34.20797057, 29.02247222, 30.69881684, 30.09317521,\n",
       "       30.40203195, 32.2398229 , 32.46682446, 32.08939226, 33.85455625,\n",
       "       32.22631564, 35.63216762, 27.89001519, 32.07992252, 32.91334096,\n",
       "       30.9926444 , 29.63796325, 33.67433756, 30.10404692, 35.38131742,\n",
       "       28.88277529, 32.3541592 , 32.84111252, 32.70571956, 34.18201556,\n",
       "       33.30996351, 31.19735821, 32.70900799, 33.05748748, 32.09490042,\n",
       "       32.38904842, 30.80533174, 33.27883233, 31.04374462, 28.00349953,\n",
       "       32.78855621, 32.78556249, 32.20126177, 27.84192279, 34.71059131,\n",
       "       32.371199  , 31.66139293, 30.72849968, 34.32306505, 33.58839806,\n",
       "       35.65673759, 31.33458805, 31.53241552, 33.60113432, 33.62145584,\n",
       "       32.27042405, 36.10805066, 31.99555218, 30.84772003, 34.90765059,\n",
       "       33.06606463, 30.78727906, 33.48319468, 31.90164217, 31.71468215,\n",
       "       28.01234856, 32.97856136, 31.3150525 , 35.40410842, 34.14569809,\n",
       "       32.67782791, 31.47088595, 33.30026866, 33.77058913])"
      ]
     },
     "execution_count": 161,
     "metadata": {},
     "output_type": "execute_result"
    }
   ],
   "source": [
    "elastic_pred=elastic_reg.predict(X_test)\n",
    "elastic_pred"
   ]
  },
  {
   "cell_type": "markdown",
   "id": "63914cba",
   "metadata": {},
   "source": [
    "### 4.2 Validating model using assumptions of ElasticNet regression\n"
   ]
  },
  {
   "cell_type": "markdown",
   "id": "cc9fef1d",
   "metadata": {},
   "source": [
    "### 4.2.1 Linear Relationship between Test Truth and Predicted\n",
    "**A good model follow linear relationship**"
   ]
  },
  {
   "cell_type": "code",
   "execution_count": 163,
   "id": "c07496ee",
   "metadata": {
    "scrolled": true
   },
   "outputs": [
    {
     "data": {
      "text/plain": [
       "Text(0, 0.5, 'Predicted')"
      ]
     },
     "execution_count": 163,
     "metadata": {},
     "output_type": "execute_result"
    },
    {
     "data": {
      "image/png": "[encoded data removed]",
      "text/plain": [
       "<Figure size 1080x720 with 1 Axes>"
      ]
     },
     "metadata": {},
     "output_type": "display_data"
    }
   ],
   "source": [
    "plt.scatter(x=y_test,y=elastic_pred)\n",
    "plt.xlabel(\"Test truth\")\n",
    "plt.ylabel(\"Predicted\")"
   ]
  },
  {
   "cell_type": "markdown",
   "id": "e0a6fcb9",
   "metadata": {},
   "source": [
    "### 4.2.2 Residuals\n",
    "**Residuals Should Follor Normal Dist.**"
   ]
  },
  {
   "cell_type": "code",
   "execution_count": 166,
   "id": "b52fee10",
   "metadata": {
    "scrolled": true
   },
   "outputs": [
    {
     "data": {
      "text/plain": [
       "24    -1.668515\n",
       "6     -0.261097\n",
       "153   -0.383248\n",
       "211    2.387133\n",
       "198    5.307608\n",
       "Name: Temperature, dtype: float64"
      ]
     },
     "execution_count": 166,
     "metadata": {},
     "output_type": "execute_result"
    }
   ],
   "source": [
    "residual_elastic=y_test-elastic_pred\n",
    "residual_elastic.head()"
   ]
  },
  {
   "cell_type": "code",
   "execution_count": 167,
   "id": "bb527b06",
   "metadata": {
    "scrolled": true
   },
   "outputs": [
    {
     "data": {
      "text/plain": [
       "<seaborn.axisgrid.FacetGrid at 0x2346714e4f0>"
      ]
     },
     "execution_count": 167,
     "metadata": {},
     "output_type": "execute_result"
    },
    {
     "data": {
      "image/png": "[encoded data removed]",
      "text/plain": [
       "<Figure size 360x360 with 1 Axes>"
      ]
     },
     "metadata": {},
     "output_type": "display_data"
    }
   ],
   "source": [
    "sns.displot(x=residual_elastic, kind='kde')"
   ]
  },
  {
   "cell_type": "markdown",
   "id": "d57f85f3",
   "metadata": {},
   "source": [
    "### 2.2.3 Uniform Distribution\n",
    "**If Residuals vs Predictions follow uniform distribution, it indicates we have a good model.**"
   ]
  },
  {
   "cell_type": "code",
   "execution_count": 169,
   "id": "b449032f",
   "metadata": {},
   "outputs": [
    {
     "data": {
      "text/plain": [
       "Text(0, 0.5, 'Residuals')"
      ]
     },
     "execution_count": 169,
     "metadata": {},
     "output_type": "execute_result"
    },
    {
     "data": {
      "image/png": "[encoded data removed]",
      "text/plain": [
       "<Figure size 1080x720 with 1 Axes>"
      ]
     },
     "metadata": {},
     "output_type": "display_data"
    }
   ],
   "source": [
    "plt.scatter(x=elastic_pred, y=residual_elastic)\n",
    "plt.xlabel('Predictions')\n",
    "plt.ylabel('Residuals')"
   ]
  },
  {
   "cell_type": "markdown",
   "id": "13385ba4",
   "metadata": {},
   "source": [
    "### 4.3 Performace Matrix"
   ]
  },
  {
   "cell_type": "markdown",
   "id": "e24afc32",
   "metadata": {},
   "source": [
    "### MSE ,MAE and RMSE"
   ]
  },
  {
   "cell_type": "code",
   "execution_count": 168,
   "id": "59a75b08",
   "metadata": {
    "scrolled": true
   },
   "outputs": [
    {
     "name": "stdout",
     "output_type": "stream",
     "text": [
      "Mean squared error is 5.53\n",
      "Mean absolute error is 1.86\n",
      "Root Mean squared error is 2.35\n"
     ]
    }
   ],
   "source": [
    "print(\"Mean squared error is {}\".format(round(mean_squared_error(y_test, elastic_pred),2)))\n",
    "print(\"Mean absolute error is {}\".format(round(mean_absolute_error(y_test, elastic_pred),2)))\n",
    "print(\"Root Mean squared error is {}\".format(round(np.sqrt(mean_squared_error(y_test, elastic_pred)),2)))"
   ]
  },
  {
   "cell_type": "markdown",
   "id": "7817ceaf",
   "metadata": {},
   "source": [
    "### 3.3.1  R Squared and Adjusted R Square"
   ]
  },
  {
   "cell_type": "code",
   "execution_count": 171,
   "id": "4b989a30",
   "metadata": {},
   "outputs": [
    {
     "name": "stdout",
     "output_type": "stream",
     "text": [
      "Our Lasso regression model has 49.403 % accuracy\n",
      "Adjusted R square accuracy is 38.44 %\n"
     ]
    }
   ],
   "source": [
    "elastic_score_r2=r2_score(y_test, elastic_pred)\n",
    "print(\"Our Lasso regression model has {} % accuracy\".format(round(elastic_score_r2*100,3)))\n",
    "\n",
    "elastic_adj_r2_score=1-((1-elastic_score_r2)*(len(y_test)-1)/(len(y_test)-X_test.shape[1]-1))\n",
    "print(\"Adjusted R square accuracy is {} %\".format(round(elastic_adj_r2_score*100,2)))"
   ]
  },
  {
   "cell_type": "markdown",
   "id": "40ff79b5",
   "metadata": {},
   "source": [
    "### 5.0 Comparing Models"
   ]
  },
  {
   "cell_type": "markdown",
   "id": "d5685bbf",
   "metadata": {},
   "source": [
    "### 5.1 MSE"
   ]
  },
  {
   "cell_type": "code",
   "execution_count": 175,
   "id": "c8ffc7cd",
   "metadata": {
    "scrolled": true
   },
   "outputs": [
    {
     "name": "stdout",
     "output_type": "stream",
     "text": [
      "MSE for Linear Regression is : 5.2\n",
      "MSE for Ridge Regression is : 5.14\n",
      "MSE for Lasso Regression is : 6.16\n",
      "MSE for ElasticNet Regression is : 5.53\n"
     ]
    }
   ],
   "source": [
    "print('MSE for Linear Regression is :',round(mean_squared_error(y_test,linear_pred),2))\n",
    "print('MSE for Ridge Regression is :',round(mean_squared_error(y_test,ridge_pred),2))\n",
    "print('MSE for Lasso Regression is :',round(mean_squared_error(y_test,lasso_pred),2))\n",
    "print('MSE for ElasticNet Regression is :',round(mean_squared_error(y_test,elastic_pred),2))"
   ]
  },
  {
   "cell_type": "markdown",
   "id": "074ba2c4",
   "metadata": {},
   "source": [
    "### 5.2 MAE"
   ]
  },
  {
   "cell_type": "code",
   "execution_count": 180,
   "id": "a1269f2e",
   "metadata": {
    "scrolled": true
   },
   "outputs": [
    {
     "name": "stdout",
     "output_type": "stream",
     "text": [
      "MAE for Linear Regression is : 1.79\n",
      "MAE for Ridge Regression is : 1.78\n",
      "MAE for Lasso Regression is : 2.0\n",
      "MAE for ElasticNet Regression is : 1.86\n"
     ]
    }
   ],
   "source": [
    "print('MAE for Linear Regression is :',round(mean_absolute_error(y_test,linear_pred),2))\n",
    "print('MAE for Ridge Regression is :',round(mean_absolute_error(y_test,ridge_pred),2))\n",
    "print('MAE for Lasso Regression is :',round(mean_absolute_error(y_test,lasso_pred),2))\n",
    "print('MAE for ElasticNet Regression is :',round(mean_absolute_error(y_test,elastic_pred),2))"
   ]
  },
  {
   "cell_type": "markdown",
   "id": "3da6d97c",
   "metadata": {},
   "source": [
    "### 5.3 RMSE"
   ]
  },
  {
   "cell_type": "code",
   "execution_count": 184,
   "id": "22335190",
   "metadata": {
    "scrolled": true
   },
   "outputs": [
    {
     "name": "stdout",
     "output_type": "stream",
     "text": [
      "RMSE for Linear Regression is : 2.28\n",
      "RMSE for Ridge Regression is : 2.27\n",
      "RMSE for Lasso Regression is : 2.48\n",
      "RMSE for ElasticNet Regression is : 2.35\n"
     ]
    }
   ],
   "source": [
    "print('RMSE for Linear Regression is :',round(np.sqrt(mean_squared_error(y_test,linear_pred)),2))\n",
    "print('RMSE for Ridge Regression is :',round(np.sqrt(mean_squared_error(y_test,ridge_pred)),2))\n",
    "print('RMSE for Lasso Regression is :',round(np.sqrt(mean_squared_error(y_test,lasso_pred)),2))\n",
    "print('RMSE for ElasticNet Regression is :',round(np.sqrt(mean_squared_error(y_test,elastic_pred)),2))"
   ]
  },
  {
   "cell_type": "markdown",
   "id": "b78f3811",
   "metadata": {},
   "source": [
    "### 5.4 R Squared"
   ]
  },
  {
   "cell_type": "code",
   "execution_count": 207,
   "id": "97aa36dc",
   "metadata": {
    "scrolled": false
   },
   "outputs": [
    {
     "name": "stdout",
     "output_type": "stream",
     "text": [
      "Accuracy of Linear Regression is : 52.39\n",
      "Accuracy of Ridge Regression is : 52.96\n",
      "Accuracy of Lasso Regression is : 43.62\n",
      "Accuracy of ElasticNet Regression is : 49.4\n"
     ]
    }
   ],
   "source": [
    "print('Accuracy of Linear Regression is :',round(linear_score_r2*100,2))\n",
    "print('Accuracy of Ridge Regression is :',round(ridge_score_r2*100,2))\n",
    "print('Accuracy of Lasso Regression is :',round(lasso_score_r2*100,2))\n",
    "print('Accuracy of ElasticNet Regression is :',round(elastic_score_r2*100,2))\n"
   ]
  },
  {
   "cell_type": "markdown",
   "id": "7ecdffa8",
   "metadata": {},
   "source": [
    "### 5.5 Adjusted R Squared"
   ]
  },
  {
   "cell_type": "code",
   "execution_count": 205,
   "id": "e1d7a9f2",
   "metadata": {},
   "outputs": [
    {
     "name": "stdout",
     "output_type": "stream",
     "text": [
      "Adjusted R Square Accuracy for Linear Regression is : 42.08\n",
      "Adjusted R Square Accuracy for Ridge Regression is : 42.77\n",
      "Adjusted R Square Accuracy for Lasso Regression is : 38.44\n",
      "Adjusted R Square Accuracy for ElasticNet Regression is : 38.44\n"
     ]
    }
   ],
   "source": [
    "print('Adjusted R Square Accuracy for Linear Regression is :',round(linear_adj_r2_score*100,2))\n",
    "print('Adjusted R Square Accuracy for Ridge Regression is :',round(ridge_adj_r2_score*100,2))\n",
    "print('Adjusted R Square Accuracy for Lasso Regression is :',round(lasso_adj_r2_score*100,2))\n",
    "print('Adjusted R Square Accuracy for ElasticNet Regression is :',round(elastic_adj_r2_score*100,2))"
   ]
  }
 ],
 "metadata": {
  "kernelspec": {
   "display_name": "Python 3",
   "language": "python",
   "name": "python3"
  },
  "language_info": {
   "codemirror_mode": {
    "name": "ipython",
    "version": 3
   },
   "file_extension": ".py",
   "mimetype": "text/x-python",
   "name": "python",
   "nbconvert_exporter": "python",
   "pygments_lexer": "ipython3",
   "version": "3.8.8"
  }
 },
 "nbformat": 4,
 "nbformat_minor": 5
}
